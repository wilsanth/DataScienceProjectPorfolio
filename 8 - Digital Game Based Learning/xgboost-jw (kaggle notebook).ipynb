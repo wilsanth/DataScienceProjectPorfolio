{
 "cells": [
  {
   "cell_type": "markdown",
   "metadata": {},
   "source": [
    "Referenced the following notebooks:<br>\n",
    "https://www.kaggle.com/code/cdeotte/xgboost-baseline-0-680?scriptVersionId=123110383<br>\n",
    "https://www.kaggle.com/code/hngphmngc/graduation-thesis-xgboost-baseline<br>\n",
    "https://www.kaggle.com/code/kimtaehun/lightgbm-baseline-with-aggregated-log-data<br>\n",
    "\n",
    " "
   ]
  },
  {
   "cell_type": "code",
   "execution_count": 1,
   "metadata": {
    "_cell_guid": "b1076dfc-b9ad-4769-8c92-a6c4dae69d19",
    "_uuid": "8f2839f25d086af736a60e9eeb907d3b93b6e0e5",
    "execution": {
     "iopub.execute_input": "2023-04-30T03:49:31.744797Z",
     "iopub.status.busy": "2023-04-30T03:49:31.743784Z",
     "iopub.status.idle": "2023-04-30T03:49:32.134366Z",
     "shell.execute_reply": "2023-04-30T03:49:32.133303Z",
     "shell.execute_reply.started": "2023-04-30T03:49:31.744734Z"
    }
   },
   "outputs": [],
   "source": [
    "import pandas as pd, numpy as np\n",
    "from sklearn.model_selection import KFold, GroupKFold\n",
    "from xgboost import XGBClassifier\n",
    "from sklearn.metrics import f1_score\n",
    "import math"
   ]
  },
  {
   "cell_type": "code",
   "execution_count": 2,
   "metadata": {
    "execution": {
     "iopub.execute_input": "2023-04-30T03:49:32.141802Z",
     "iopub.status.busy": "2023-04-30T03:49:32.141084Z",
     "iopub.status.idle": "2023-04-30T03:49:32.146737Z",
     "shell.execute_reply": "2023-04-30T03:49:32.145677Z",
     "shell.execute_reply.started": "2023-04-30T03:49:32.141763Z"
    }
   },
   "outputs": [],
   "source": [
    "train = '/kaggle/input/predict-student-performance-from-game-play/train.csv'\n",
    "train_labels = '/kaggle/input/predict-student-performance-from-game-play/train_labels.csv'"
   ]
  },
  {
   "cell_type": "code",
   "execution_count": 3,
   "metadata": {
    "execution": {
     "iopub.execute_input": "2023-04-30T03:49:32.148945Z",
     "iopub.status.busy": "2023-04-30T03:49:32.148232Z",
     "iopub.status.idle": "2023-04-30T03:49:53.682081Z",
     "shell.execute_reply": "2023-04-30T03:49:53.680722Z",
     "shell.execute_reply.started": "2023-04-30T03:49:32.148908Z"
    }
   },
   "outputs": [],
   "source": [
    "def create_chunks_by_file(file_name, group_by_column, chunks = 10):\n",
    "    ######################################################\n",
    "    # This manages large files when there is low memory. #\n",
    "    # First we will identify the group column name and   #\n",
    "    # and do a unique count. Then we can define the      #\n",
    "    # chunks so we don't mis split groupings by session  #\n",
    "    # id's. The groupings are used to read the files in  #\n",
    "    # chunks.                                            #\n",
    "    ######################################################\n",
    "    df_pull = pd.read_csv(file_name, usecols = [group_by_column])\n",
    "    df_pull = df_pull.groupby(group_by_column)[group_by_column].agg('count')\n",
    "    \n",
    "    chunk_size = int(np.ceil(len(df_pull)/chunks))\n",
    "    \n",
    "    chunk_values = []\n",
    "    skip_values = [0]\n",
    "    for i in range(chunks):\n",
    "        start_row = i * chunk_size\n",
    "        end_row = (i + 1) * chunk_size\n",
    "        if end_row > len(df_pull): \n",
    "            end_row = len(df_pull)\n",
    "        chunk = df_pull.iloc[start_row:end_row].sum()\n",
    "        chunk_values.append(chunk)\n",
    "        skip_values.append(skip_values[-1] + chunk)\n",
    "    return chunk_values, skip_values\n",
    "\n",
    "chunk_values, skip_values = create_chunks_by_file(train, 'session_id')"
   ]
  },
  {
   "cell_type": "code",
   "execution_count": 4,
   "metadata": {
    "execution": {
     "iopub.execute_input": "2023-04-30T03:49:53.686990Z",
     "iopub.status.busy": "2023-04-30T03:49:53.686272Z",
     "iopub.status.idle": "2023-04-30T03:49:53.701685Z",
     "shell.execute_reply": "2023-04-30T03:49:53.700509Z",
     "shell.execute_reply.started": "2023-04-30T03:49:53.686944Z"
    }
   },
   "outputs": [],
   "source": [
    "#pulled from  https://towardsdatascience.com/how-to-learn-from-bigdata-files-on-low-memory-incremental-learning-d377282d38ff\n",
    "def reduce_mem_usage(df, display_memory_optimization = 0 ):\n",
    "    ######################################################\n",
    "    # iterate through all the columns of a dataframe and #\n",
    "    # modify the data type to reduce memory usage.       #\n",
    "    ###################################################### \n",
    "    start_mem = df.memory_usage().sum() / 1024**2\n",
    "    if display_memory_optimization:\n",
    "        print(('Memory usage of dataframe is {:.2f}''MB').format(start_mem))\n",
    "    \n",
    "    for col in df.columns:\n",
    "        col_type = df[col].dtype\n",
    "        \n",
    "        if col_type != object:\n",
    "            c_min = df[col].min()\n",
    "            c_max = df[col].max()\n",
    "            if str(col_type)[:3] == 'int':\n",
    "                if c_min > np.iinfo(np.int8).min and c_max <\\\n",
    "                  np.iinfo(np.int8).max:\n",
    "                    df[col] = df[col].astype(np.int8)\n",
    "                elif c_min > np.iinfo(np.int16).min and c_max <\\\n",
    "                   np.iinfo(np.int16).max:\n",
    "                    df[col] = df[col].astype(np.int16)\n",
    "                elif c_min > np.iinfo(np.int32).min and c_max <\\\n",
    "                   np.iinfo(np.int32).max:\n",
    "                    df[col] = df[col].astype(np.int32)\n",
    "                elif c_min > np.iinfo(np.int64).min and c_max <\\\n",
    "                   np.iinfo(np.int64).max:\n",
    "                    df[col] = df[col].astype(np.int64)  \n",
    "            else:\n",
    "                if c_min > np.finfo(np.float16).min and c_max <\\\n",
    "                   np.finfo(np.float16).max:\n",
    "                    df[col] = df[col].astype(np.float16)\n",
    "                elif c_min > np.finfo(np.float32).min and c_max <\\\n",
    "                   np.finfo(np.float32).max:\n",
    "                    df[col] = df[col].astype(np.float32)\n",
    "                else:\n",
    "                    df[col] = df[col].astype(np.float64)\n",
    "        else:\n",
    "            df[col] = df[col].astype('category')\n",
    "    end_mem = df.memory_usage().sum() / 1024**2\n",
    "    if display_memory_optimization:\n",
    "        print(('Memory usage after optimization is: {:.2f} MB').format(end_mem))\n",
    "        print('Decreased by {:.1f}%'.format(100 * (start_mem - end_mem) / start_mem))\n",
    "    \n",
    "    return df"
   ]
  },
  {
   "cell_type": "code",
   "execution_count": 5,
   "metadata": {
    "execution": {
     "iopub.execute_input": "2023-04-30T03:49:53.706123Z",
     "iopub.status.busy": "2023-04-30T03:49:53.705094Z",
     "iopub.status.idle": "2023-04-30T03:49:53.719398Z",
     "shell.execute_reply": "2023-04-30T03:49:53.718409Z",
     "shell.execute_reply.started": "2023-04-30T03:49:53.706082Z"
    }
   },
   "outputs": [],
   "source": [
    "columns = ['session_id', 'elapsed_time', 'event_name', 'room_coor_x', 'room_coor_y', 'screen_coor_x', 'screen_coor_y',\n",
    "           'hover_duration', 'text', 'fqid', 'room_fqid', 'level_group', 'page']\n",
    "\n",
    "column_features =['elapsed_time', 'room_coor_x', 'room_coor_y', 'screen_coor_x', 'screen_coor_y',\n",
    "           'hover_duration', 'text', 'fqid', 'room_fqid']\n",
    "\n",
    "group_by_columns = ['session_id','level_group']\n",
    "\n",
    "# reference: https://www.kaggle.com/code/kimtaehun/lightgbm-baseline-with-aggregated-log-data\n",
    "events = ['navigate_click','person_click','cutscene_click','object_click',\n",
    "          'map_hover','notification_click','map_click','observation_click',\n",
    "          'checkpoint']\n"
   ]
  },
  {
   "cell_type": "code",
   "execution_count": 6,
   "metadata": {
    "execution": {
     "iopub.execute_input": "2023-04-30T03:49:53.721283Z",
     "iopub.status.busy": "2023-04-30T03:49:53.720902Z",
     "iopub.status.idle": "2023-04-30T03:49:53.734688Z",
     "shell.execute_reply": "2023-04-30T03:49:53.733692Z",
     "shell.execute_reply.started": "2023-04-30T03:49:53.721237Z"
    }
   },
   "outputs": [],
   "source": [
    "def create_dummies(df, column):\n",
    "    just_dummies = pd.get_dummies(df[column])\n",
    "    df = pd.concat([df, just_dummies], axis=1)\n",
    "    df.drop([column], inplace = True, axis = 1)\n",
    "    return df"
   ]
  },
  {
   "cell_type": "code",
   "execution_count": 7,
   "metadata": {
    "execution": {
     "iopub.execute_input": "2023-04-30T03:49:53.736585Z",
     "iopub.status.busy": "2023-04-30T03:49:53.736173Z",
     "iopub.status.idle": "2023-04-30T03:49:53.747144Z",
     "shell.execute_reply": "2023-04-30T03:49:53.746133Z",
     "shell.execute_reply.started": "2023-04-30T03:49:53.736547Z"
    }
   },
   "outputs": [],
   "source": [
    "def feature_engineer_aggregation(train, index_column, group_by_columns, column_features):\n",
    "    ######################################################\n",
    "    # iterate through all the columns of a dataframe and #\n",
    "    # create features that are aggregated.               #\n",
    "    ###################################################### \n",
    "    dfs = []\n",
    "    for c in column_features: \n",
    "        if train[c].dtype == 'category':\n",
    "            category_count = train.groupby(group_by_columns)[c].agg('nunique')\n",
    "            category_count.name = category_count.name + '_nunique'\n",
    "            dfs.append(category_count)\n",
    "        else:\n",
    "            mean = train.groupby(group_by_columns)[c].agg('mean')\n",
    "            mean.name = mean.name + '_mean'\n",
    "            dfs.append(mean)\n",
    "        \n",
    "            standard_deviation = train.groupby(group_by_columns)[c].agg('std')\n",
    "            standard_deviation.name = standard_deviation.name + '_std'\n",
    "            dfs.append(standard_deviation)\n",
    "            \n",
    "    for c in events:\n",
    "        event = train.groupby(group_by_columns)[c].agg('sum')\n",
    "        event.name = event.name + '_sum'\n",
    "        dfs.append(event)\n",
    "        \n",
    "    df = pd.concat(dfs,axis=1)\n",
    "    df = df.fillna(-1)\n",
    "    df = df.reset_index()\n",
    "    df = df.set_index(index_column)\n",
    "    return df"
   ]
  },
  {
   "cell_type": "code",
   "execution_count": 8,
   "metadata": {
    "execution": {
     "iopub.execute_input": "2023-04-30T03:49:53.749260Z",
     "iopub.status.busy": "2023-04-30T03:49:53.748891Z",
     "iopub.status.idle": "2023-04-30T03:53:01.582164Z",
     "shell.execute_reply": "2023-04-30T03:53:01.580852Z",
     "shell.execute_reply.started": "2023-04-30T03:49:53.749221Z"
    }
   },
   "outputs": [
    {
     "name": "stdout",
     "output_type": "stream",
     "text": [
      "0 , 1 , 2 , 3 , 4 , 5 , 6 , 7 , 8 , 9 , CPU times: user 2min 54s, sys: 13.1 s, total: 3min 7s\n",
      "Wall time: 3min 7s\n"
     ]
    }
   ],
   "source": [
    "%%time\n",
    "def load_data_in_chunks(file_name, chunk_values, skip_values, index_column, columns, group_by_columns, column_features): \n",
    "    ######################################################\n",
    "    # Loads data frame in chunks, optimizes the storage  #\n",
    "    # for the data frame and creates the features.       #\n",
    "    ###################################################### \n",
    "    dfs_list = []\n",
    "    iteration = len(chunk_values)\n",
    "    for i in range(len(chunk_values)):\n",
    "        print(i, ', ', end = '')\n",
    "        skiprows = 0\n",
    "        if i > 0: \n",
    "            skiprows = range(1,skip_values[i] + 1)\n",
    "        train_chunk = pd.read_csv(file_name, nrows = chunk_values[i],\n",
    "                           skiprows = skiprows, usecols = columns)\n",
    "        train_chunk = create_dummies(train_chunk,'event_name')\n",
    "        mem_reduce_chunk = reduce_mem_usage(train_chunk)\n",
    "        df = feature_engineer_aggregation(mem_reduce_chunk,index_column,group_by_columns, column_features)\n",
    "        dfs_list.append(df)\n",
    "\n",
    "    df = pd.concat(dfs_list, axis = 0)\n",
    "    return df\n",
    "\n",
    "\n",
    "df = load_data_in_chunks(train, chunk_values, skip_values, 'session_id', columns,group_by_columns, column_features)"
   ]
  },
  {
   "cell_type": "code",
   "execution_count": 9,
   "metadata": {
    "execution": {
     "iopub.execute_input": "2023-04-30T03:53:01.584331Z",
     "iopub.status.busy": "2023-04-30T03:53:01.583755Z",
     "iopub.status.idle": "2023-04-30T03:53:03.338801Z",
     "shell.execute_reply": "2023-04-30T03:53:03.337596Z",
     "shell.execute_reply.started": "2023-04-30T03:53:01.584290Z"
    }
   },
   "outputs": [
    {
     "data": {
      "text/html": [
       "<div>\n",
       "<style scoped>\n",
       "    .dataframe tbody tr th:only-of-type {\n",
       "        vertical-align: middle;\n",
       "    }\n",
       "\n",
       "    .dataframe tbody tr th {\n",
       "        vertical-align: top;\n",
       "    }\n",
       "\n",
       "    .dataframe thead th {\n",
       "        text-align: right;\n",
       "    }\n",
       "</style>\n",
       "<table border=\"1\" class=\"dataframe\">\n",
       "  <thead>\n",
       "    <tr style=\"text-align: right;\">\n",
       "      <th></th>\n",
       "      <th>session_id</th>\n",
       "      <th>correct</th>\n",
       "      <th>question</th>\n",
       "    </tr>\n",
       "  </thead>\n",
       "  <tbody>\n",
       "    <tr>\n",
       "      <th>0</th>\n",
       "      <td>20090312431273200</td>\n",
       "      <td>1</td>\n",
       "      <td>1</td>\n",
       "    </tr>\n",
       "    <tr>\n",
       "      <th>1</th>\n",
       "      <td>20090312433251036</td>\n",
       "      <td>0</td>\n",
       "      <td>1</td>\n",
       "    </tr>\n",
       "    <tr>\n",
       "      <th>2</th>\n",
       "      <td>20090312455206810</td>\n",
       "      <td>1</td>\n",
       "      <td>1</td>\n",
       "    </tr>\n",
       "    <tr>\n",
       "      <th>3</th>\n",
       "      <td>20090313091715820</td>\n",
       "      <td>0</td>\n",
       "      <td>1</td>\n",
       "    </tr>\n",
       "    <tr>\n",
       "      <th>4</th>\n",
       "      <td>20090313571836404</td>\n",
       "      <td>1</td>\n",
       "      <td>1</td>\n",
       "    </tr>\n",
       "  </tbody>\n",
       "</table>\n",
       "</div>"
      ],
      "text/plain": [
       "          session_id  correct  question\n",
       "0  20090312431273200        1         1\n",
       "1  20090312433251036        0         1\n",
       "2  20090312455206810        1         1\n",
       "3  20090313091715820        0         1\n",
       "4  20090313571836404        1         1"
      ]
     },
     "execution_count": 9,
     "metadata": {},
     "output_type": "execute_result"
    }
   ],
   "source": [
    "df_labels = pd.read_csv(train_labels)\n",
    "list_breakout = df_labels['session_id'].str.split('_',n = 1)\n",
    "df_labels[\"session_id\"], df_labels['question'] = list_breakout.str[0], list_breakout.str[1]\n",
    "df_labels['question'] = df_labels['question'].str.replace('q', '')\n",
    "df_labels['session_id'] = df_labels['session_id'].astype('int64')\n",
    "df_labels['question'] = df_labels['question'].astype('int8')\n",
    "df_labels.head()"
   ]
  },
  {
   "cell_type": "code",
   "execution_count": 10,
   "metadata": {
    "execution": {
     "iopub.execute_input": "2023-04-30T03:53:03.340850Z",
     "iopub.status.busy": "2023-04-30T03:53:03.340325Z",
     "iopub.status.idle": "2023-04-30T03:53:03.349334Z",
     "shell.execute_reply": "2023-04-30T03:53:03.347899Z",
     "shell.execute_reply.started": "2023-04-30T03:53:03.340804Z"
    }
   },
   "outputs": [],
   "source": [
    "features = [c for c in df.columns if c != 'level_group']\n",
    "sessions = df.index.unique()"
   ]
  },
  {
   "cell_type": "code",
   "execution_count": 11,
   "metadata": {
    "execution": {
     "iopub.execute_input": "2023-04-30T03:53:03.351963Z",
     "iopub.status.busy": "2023-04-30T03:53:03.351019Z",
     "iopub.status.idle": "2023-04-30T03:53:03.360070Z",
     "shell.execute_reply": "2023-04-30T03:53:03.359001Z",
     "shell.execute_reply.started": "2023-04-30T03:53:03.351924Z"
    }
   },
   "outputs": [],
   "source": [
    "def print_fold_status(fold):\n",
    "    ######################################################\n",
    "    # When folding the data this will print which we are #\n",
    "    # on when passed the fold iteration value            #\n",
    "    ######################################################  \n",
    "    \n",
    "    pre_white_space_multiplier = math.floor((12 - len(str(fold+1)))/2) + 1\n",
    "    post_white_space_multiplier = math.ceil((12 - len(str(fold+1)))/2) + 1\n",
    "    \n",
    "    fold_string = \"#\"*3 \n",
    "    fold_string += ' '*pre_white_space_multiplier \n",
    "    fold_string += 'Fold ' \n",
    "    fold_string += str(fold +1) \n",
    "    fold_string += ' '*post_white_space_multiplier \n",
    "    fold_string += \"#\"*3\n",
    "    \n",
    "    print('#'*25)\n",
    "    print(fold_string)\n",
    "    print('#'*25)\n"
   ]
  },
  {
   "cell_type": "code",
   "execution_count": 12,
   "metadata": {
    "execution": {
     "iopub.execute_input": "2023-04-30T03:53:03.362394Z",
     "iopub.status.busy": "2023-04-30T03:53:03.361519Z",
     "iopub.status.idle": "2023-04-30T03:56:07.871638Z",
     "shell.execute_reply": "2023-04-30T03:56:07.870633Z",
     "shell.execute_reply.started": "2023-04-30T03:53:03.362334Z"
    }
   },
   "outputs": [
    {
     "name": "stdout",
     "output_type": "stream",
     "text": [
      "#########################\n",
      "###      Fold 1       ###\n",
      "#########################\n",
      "1(62), 2(85), 3(132), 4(107), 5(113), 6(128), 7(59), 8(63), 9(137), 10(106), 11(127), 12(108), 13(66), 14(192), 15(232), 16(80), 17(61), 18(146), \n",
      "\n",
      "#########################\n",
      "###      Fold 2       ###\n",
      "#########################\n",
      "1(133), 2(122), 3(79), 4(112), 5(102), 6(85), 7(96), 8(75), 9(109), 10(78), 11(76), 12(96), 13(51), 14(122), 15(195), 16(98), 17(76), 18(159), \n",
      "\n",
      "#########################\n",
      "###      Fold 3       ###\n",
      "#########################\n",
      "1(176), 2(131), 3(97), 4(186), 5(138), 6(75), 7(142), 8(56), 9(133), 10(82), 11(65), 12(66), 13(97), 14(125), 15(168), 16(66), 17(85), 18(91), \n",
      "\n",
      "#########################\n",
      "###      Fold 4       ###\n",
      "#########################\n",
      "1(164), 2(92), 3(75), 4(258), 5(149), 6(156), 7(104), 8(59), 9(102), 10(53), 11(95), 12(81), 13(143), 14(96), 15(132), 16(78), 17(51), 18(88), \n",
      "\n",
      "#########################\n",
      "###      Fold 5       ###\n",
      "#########################\n",
      "1(172), 2(114), 3(96), 4(141), 5(105), 6(76), 7(71), 8(69), 9(75), 10(74), 11(70), 12(74), 13(121), 14(106), 15(174), 16(45), 17(83), 18(107), \n",
      "\n",
      "#########################\n",
      "###      Fold 6       ###\n",
      "#########################\n",
      "1(124), 2(115), 3(112), 4(213), 5(158), 6(101), 7(88), 8(45), 9(137), 10(177), 11(62), 12(102), 13(125), 14(103), 15(96), 16(47), 17(46), 18(214), \n",
      "\n",
      "#########################\n",
      "###      Fold 7       ###\n",
      "#########################\n",
      "1(86), 2(195), 3(86), 4(112), 5(83), 6(168), 7(133), 8(33), 9(131), 10(97), 11(162), 12(92), 13(88), 14(78), 15(160), 16(113), 17(78), 18(127), \n",
      "\n",
      "#########################\n",
      "###      Fold 8       ###\n",
      "#########################\n",
      "1(122), 2(132), 3(129), 4(185), 5(82), 6(101), 7(87), 8(47), 9(85), 10(114), 11(110), 12(84), 13(58), 14(135), 15(133), 16(63), 17(134), 18(96), \n",
      "\n",
      "#########################\n",
      "###      Fold 9       ###\n",
      "#########################\n",
      "1(217), 2(135), 3(87), 4(224), 5(68), 6(101), 7(108), 8(51), 9(72), 10(114), 11(79), 12(98), 13(108), 14(176), 15(209), 16(78), 17(59), 18(117), \n",
      "\n",
      "#########################\n",
      "###      Fold 10      ###\n",
      "#########################\n",
      "1(126), 2(110), 3(87), 4(158), 5(110), 6(168), 7(188), 8(46), 9(100), 10(131), 11(88), 12(111), 13(115), 14(95), 15(109), 16(84), 17(50), 18(123), \n",
      "\n"
     ]
    }
   ],
   "source": [
    "gkf = GroupKFold(n_splits=10)\n",
    "oof = pd.DataFrame(data=np.zeros((len(sessions),18)), index=sessions)\n",
    "models = {}\n",
    "\n",
    "# calculate cross validatiom score with 5 group k fold\n",
    "for fold, (train_index, test_index) in enumerate(gkf.split(X=df, groups=df.index)):\n",
    "    print_fold_status(fold)\n",
    "    \n",
    "    xgb_params = {\n",
    "    'objective' : 'binary:logistic',\n",
    "    'eval_metric':'logloss',\n",
    "    'learning_rate': 0.05,\n",
    "    'max_depth': 5,\n",
    "    'n_estimators': 1000,\n",
    "    'early_stopping_rounds': 50,\n",
    "    'tree_method':'hist',\n",
    "    'subsample':0.8,\n",
    "    'colsample_bytree': 0.8}\n",
    "    \n",
    "    \n",
    "    for question in range(1,19):\n",
    "        \n",
    "        # define current group level and max question from the last completed question group \n",
    "        if question<=3: \n",
    "            grp = '0-4'\n",
    "        elif question<=13: \n",
    "            grp = '5-12'\n",
    "        elif question<=22: \n",
    "            grp = '13-22'\n",
    "          \n",
    "        train_x = df.iloc[train_index]\n",
    "        train_x = train_x.loc[train_x.level_group == grp]\n",
    "        train_users = train_x.index.values\n",
    "        train_y = df_labels.loc[df_labels.question==question].set_index('session_id').loc[train_users]\n",
    "        \n",
    "        valid_x = df.iloc[test_index]\n",
    "        valid_x = valid_x.loc[valid_x.level_group == grp]\n",
    "        valid_users = valid_x.index.values\n",
    "        valid_y = df_labels.loc[df_labels.question==question].set_index('session_id').loc[valid_users]\n",
    "        \n",
    "        features = [c for c in train_x.columns if c != 'level_group']\n",
    "        \n",
    "        # train model        \n",
    "        clf =  XGBClassifier(**xgb_params)\n",
    "        clf.fit(train_x[features].astype('float32'), train_y['correct'],\n",
    "                eval_set=[ (valid_x[features].astype('float32'), valid_y['correct']) ],\n",
    "                verbose=0)\n",
    "        print(f'{question}({clf.best_ntree_limit}), ',end='')\n",
    "        \n",
    "        # save model, predict valid oof\n",
    "        models[f'{grp}_{question}'] = clf\n",
    "        oof.loc[valid_users, question-1] = clf.predict_proba(valid_x[features].astype('float32'))[:,1]\n",
    "    print('\\n')\n",
    "        "
   ]
  },
  {
   "cell_type": "markdown",
   "metadata": {},
   "source": [
    "Copy OOF df and override with labels so it is easier to compare. "
   ]
  },
  {
   "cell_type": "code",
   "execution_count": 13,
   "metadata": {
    "execution": {
     "iopub.execute_input": "2023-04-30T03:56:07.880658Z",
     "iopub.status.busy": "2023-04-30T03:56:07.878664Z",
     "iopub.status.idle": "2023-04-30T03:56:07.956250Z",
     "shell.execute_reply": "2023-04-30T03:56:07.955270Z",
     "shell.execute_reply.started": "2023-04-30T03:56:07.880610Z"
    }
   },
   "outputs": [],
   "source": [
    "true = oof.copy()\n",
    "for question in range(18):\n",
    "    tmp = df_labels.loc[df_labels.question == question+1].set_index('session_id').loc[sessions]\n",
    "    true[question] = tmp.correct.values"
   ]
  },
  {
   "cell_type": "markdown",
   "metadata": {},
   "source": [
    "Need to iterate between .4 and .8 to identify the best threshold when converting probabilities."
   ]
  },
  {
   "cell_type": "code",
   "execution_count": 14,
   "metadata": {
    "execution": {
     "iopub.execute_input": "2023-04-30T03:56:07.958185Z",
     "iopub.status.busy": "2023-04-30T03:56:07.957712Z",
     "iopub.status.idle": "2023-04-30T03:56:12.960127Z",
     "shell.execute_reply": "2023-04-30T03:56:12.959116Z",
     "shell.execute_reply.started": "2023-04-30T03:56:07.958137Z"
    }
   },
   "outputs": [
    {
     "name": "stdout",
     "output_type": "stream",
     "text": [
      "0.40, 0.41, 0.42, 0.43, 0.44, 0.45, 0.46, 0.47, 0.48, 0.49, 0.50, 0.51, 0.52, 0.53, 0.54, 0.55, 0.56, 0.57, 0.58, 0.59, 0.60, 0.61, 0.62, 0.63, 0.64, 0.65, 0.66, 0.67, 0.68, 0.69, 0.70, 0.71, 0.72, 0.73, 0.74, 0.75, 0.76, 0.77, 0.78, 0.79, 0.80, "
     ]
    }
   ],
   "source": [
    "scores = []; thresholds = []\n",
    "best_score = 0; best_threshold = 0\n",
    "\n",
    "for threshold in np.arange(0.4,0.81,0.01):\n",
    "    print(f'{threshold:.02f}, ',end='')\n",
    "    preds = (oof.values.reshape((-1))>threshold).astype('int')\n",
    "    m = f1_score(true.values.reshape((-1)), preds, average='macro')   \n",
    "    scores.append(m)\n",
    "    thresholds.append(threshold)\n",
    "    if m>best_score:\n",
    "        best_score = m\n",
    "        best_threshold = threshold"
   ]
  },
  {
   "cell_type": "code",
   "execution_count": 15,
   "metadata": {
    "execution": {
     "iopub.execute_input": "2023-04-30T03:56:12.962048Z",
     "iopub.status.busy": "2023-04-30T03:56:12.961585Z",
     "iopub.status.idle": "2023-04-30T03:56:13.347671Z",
     "shell.execute_reply": "2023-04-30T03:56:13.346640Z",
     "shell.execute_reply.started": "2023-04-30T03:56:12.962008Z"
    }
   },
   "outputs": [
    {
     "data": {
      "image/png": "[encoded data removed]",
      "text/plain": [
       "<Figure size 1700x500 with 1 Axes>"
      ]
     },
     "metadata": {},
     "output_type": "display_data"
    }
   ],
   "source": [
    "import matplotlib.pyplot as plt\n",
    "import seaborn as sns\n",
    "\n",
    "sns.set_style('whitegrid')\n",
    "f, ax = plt.subplots(figsize=(17, 5))\n",
    "\n",
    "sns.lineplot(x=thresholds,y= scores, marker= 'o')\n",
    "sns.lineplot(x = [best_threshold], y= [best_score], marker= '*', markersize =20)\n",
    "\n",
    "plt.xlabel('Threshold',size=14)\n",
    "plt.ylabel('Validation F1 Score',size=14)\n",
    "plt.suptitle('Threshold vs. F1_Score')\n",
    "plt.title(f'Best F1_Score = {best_score:.3f} at Best Threshold = {best_threshold:.3}')\n",
    "plt.show()"
   ]
  },
  {
   "cell_type": "code",
   "execution_count": 16,
   "metadata": {
    "execution": {
     "iopub.execute_input": "2023-04-30T03:56:13.349371Z",
     "iopub.status.busy": "2023-04-30T03:56:13.348877Z",
     "iopub.status.idle": "2023-04-30T03:56:13.601315Z",
     "shell.execute_reply": "2023-04-30T03:56:13.600244Z",
     "shell.execute_reply.started": "2023-04-30T03:56:13.349316Z"
    }
   },
   "outputs": [],
   "source": [
    "f1_dict = {}\n",
    "for k in range(18):\n",
    "    m = f1_score(true[k].values, (oof[k].values>best_threshold).astype('int'), average='macro')\n",
    "    f1_dict[k+1] = m\n",
    "    \n",
    "m = f1_score(true.values.reshape((-1)), (oof.values.reshape((-1))>best_threshold).astype('int'), average='macro')\n",
    "f1_df = pd.DataFrame(f1_dict.items(), columns =['Question', 'F1-Score'])"
   ]
  },
  {
   "cell_type": "code",
   "execution_count": 17,
   "metadata": {
    "execution": {
     "iopub.execute_input": "2023-04-30T03:56:13.603268Z",
     "iopub.status.busy": "2023-04-30T03:56:13.602841Z",
     "iopub.status.idle": "2023-04-30T03:56:14.072321Z",
     "shell.execute_reply": "2023-04-30T03:56:14.071318Z",
     "shell.execute_reply.started": "2023-04-30T03:56:13.603223Z"
    }
   },
   "outputs": [
    {
     "data": {
      "image/png": "[encoded data removed]",
      "text/plain": [
       "<Figure size 1000x500 with 2 Axes>"
      ]
     },
     "metadata": {},
     "output_type": "display_data"
    }
   ],
   "source": [
    "f, axes = plt.subplots(1, 2,figsize=(10, 5),gridspec_kw = {'width_ratios':[3,1]})\n",
    "color_assignment = ['red' if x < .45 else  'orange' if x < .55 else 'green' for x in f1_df['F1-Score']]\n",
    "\n",
    "ax1 =sns.barplot(x ='Question', y = 'F1-Score', data =  f1_df, palette = color_assignment,ax=axes[0])\n",
    "ax1.axhline(.5, ls='--', color= 'black')\n",
    "ax1.set_ylim(0,1)\n",
    "ax1.set_title('Each Question')\n",
    "ax1.set_xlabel('')\n",
    "\n",
    "\n",
    "ax2 = sns.barplot(x=[1] ,y = [m], palette = ['green'],ax=axes[1])\n",
    "ax2.axhline(.5, ls='--', color= 'black')\n",
    "ax2.set_ylim(0,1)\n",
    "ax2.set_xticks([])\n",
    "ax2.set_title('Overall')\n",
    "ax2.bar_label(ax2.containers[0])\n",
    "\n",
    "f.suptitle(f'F1 Score With Optimized Threshold Value ({best_threshold:.3})')\n",
    "plt.show()"
   ]
  },
  {
   "cell_type": "code",
   "execution_count": 18,
   "metadata": {
    "execution": {
     "iopub.execute_input": "2023-04-30T03:56:14.075071Z",
     "iopub.status.busy": "2023-04-30T03:56:14.074208Z",
     "iopub.status.idle": "2023-04-30T03:56:14.347183Z",
     "shell.execute_reply": "2023-04-30T03:56:14.346125Z",
     "shell.execute_reply.started": "2023-04-30T03:56:14.075025Z"
    }
   },
   "outputs": [],
   "source": [
    "# IMPORT KAGGLE API\n",
    "import jo_wilder\n",
    "env = jo_wilder.make_env()\n",
    "iter_test = env.iter_test()\n",
    "\n",
    "# CLEAR MEMORY\n",
    "import gc\n",
    "del df_labels, df, oof, true,f1_dict,f1_df\n",
    "_ = gc.collect()"
   ]
  },
  {
   "cell_type": "code",
   "execution_count": 19,
   "metadata": {
    "execution": {
     "iopub.execute_input": "2023-04-30T03:56:14.349049Z",
     "iopub.status.busy": "2023-04-30T03:56:14.348639Z",
     "iopub.status.idle": "2023-04-30T03:56:14.355469Z",
     "shell.execute_reply": "2023-04-30T03:56:14.353137Z",
     "shell.execute_reply.started": "2023-04-30T03:56:14.348999Z"
    }
   },
   "outputs": [],
   "source": [
    "test ='/kaggle/input/predict-student-performance-from-game-play/test.csv'\n",
    "sample_submission = '/kaggle/input/predict-student-performance-from-game-play/sample_submission.csv'\n"
   ]
  },
  {
   "cell_type": "code",
   "execution_count": 20,
   "metadata": {
    "execution": {
     "iopub.execute_input": "2023-04-30T03:56:14.357572Z",
     "iopub.status.busy": "2023-04-30T03:56:14.357177Z",
     "iopub.status.idle": "2023-04-30T03:56:15.315251Z",
     "shell.execute_reply": "2023-04-30T03:56:15.314423Z",
     "shell.execute_reply.started": "2023-04-30T03:56:14.357536Z"
    }
   },
   "outputs": [
    {
     "name": "stdout",
     "output_type": "stream",
     "text": [
      "This version of the API is not optimized and should not be used to estimate the runtime of your code on the hidden test set.\n"
     ]
    }
   ],
   "source": [
    "limits = {'0-4':(1,4), '5-12':(4,14), '13-22':(14,19)}\n",
    "\n",
    "for (test, sample_submission) in iter_test:\n",
    "    # FEATURE ENGINEER TEST DATA\n",
    "    test = create_dummies(test,'event_name')\n",
    "    mem_reduce_test = reduce_mem_usage(test)\n",
    "    df = feature_engineer_aggregation(mem_reduce_test,'session_id',group_by_columns, column_features)\n",
    "   # INFER TEST DATA\n",
    "    grp = test.level_group.values[0]\n",
    "    a,b = limits[grp]\n",
    "    for t in range(a,b):\n",
    "        clf = models[f'{grp}_{t}']\n",
    "        p = clf.predict_proba(df[features].astype('float32'))[0,1]\n",
    "        mask = sample_submission.session_id.str.contains(f'q{t}')\n",
    "        sample_submission.loc[mask,'correct'] = int( p > best_threshold )\n",
    "    \n",
    "    env.predict(sample_submission)"
   ]
  },
  {
   "cell_type": "code",
   "execution_count": 23,
   "metadata": {
    "execution": {
     "iopub.execute_input": "2023-04-30T03:57:16.305056Z",
     "iopub.status.busy": "2023-04-30T03:57:16.304423Z",
     "iopub.status.idle": "2023-04-30T03:57:16.321472Z",
     "shell.execute_reply": "2023-04-30T03:57:16.320411Z",
     "shell.execute_reply.started": "2023-04-30T03:57:16.305019Z"
    }
   },
   "outputs": [
    {
     "name": "stdout",
     "output_type": "stream",
     "text": [
      "(54, 2)\n"
     ]
    },
    {
     "data": {
      "text/html": [
       "<div>\n",
       "<style scoped>\n",
       "    .dataframe tbody tr th:only-of-type {\n",
       "        vertical-align: middle;\n",
       "    }\n",
       "\n",
       "    .dataframe tbody tr th {\n",
       "        vertical-align: top;\n",
       "    }\n",
       "\n",
       "    .dataframe thead th {\n",
       "        text-align: right;\n",
       "    }\n",
       "</style>\n",
       "<table border=\"1\" class=\"dataframe\">\n",
       "  <thead>\n",
       "    <tr style=\"text-align: right;\">\n",
       "      <th></th>\n",
       "      <th>session_id</th>\n",
       "      <th>correct</th>\n",
       "    </tr>\n",
       "  </thead>\n",
       "  <tbody>\n",
       "    <tr>\n",
       "      <th>0</th>\n",
       "      <td>20090109393214576_q1</td>\n",
       "      <td>1</td>\n",
       "    </tr>\n",
       "    <tr>\n",
       "      <th>1</th>\n",
       "      <td>20090109393214576_q2</td>\n",
       "      <td>1</td>\n",
       "    </tr>\n",
       "    <tr>\n",
       "      <th>2</th>\n",
       "      <td>20090109393214576_q3</td>\n",
       "      <td>1</td>\n",
       "    </tr>\n",
       "    <tr>\n",
       "      <th>3</th>\n",
       "      <td>20090109393214576_q4</td>\n",
       "      <td>1</td>\n",
       "    </tr>\n",
       "    <tr>\n",
       "      <th>4</th>\n",
       "      <td>20090109393214576_q5</td>\n",
       "      <td>0</td>\n",
       "    </tr>\n",
       "  </tbody>\n",
       "</table>\n",
       "</div>"
      ],
      "text/plain": [
       "             session_id  correct\n",
       "0  20090109393214576_q1        1\n",
       "1  20090109393214576_q2        1\n",
       "2  20090109393214576_q3        1\n",
       "3  20090109393214576_q4        1\n",
       "4  20090109393214576_q5        0"
      ]
     },
     "execution_count": 23,
     "metadata": {},
     "output_type": "execute_result"
    }
   ],
   "source": [
    "df = pd.read_csv('submission.csv')\n",
    "print( df.shape )\n",
    "df.head()"
   ]
  },
  {
   "cell_type": "code",
   "execution_count": 24,
   "metadata": {
    "execution": {
     "iopub.execute_input": "2023-04-30T03:57:40.316557Z",
     "iopub.status.busy": "2023-04-30T03:57:40.315319Z",
     "iopub.status.idle": "2023-04-30T03:57:40.323815Z",
     "shell.execute_reply": "2023-04-30T03:57:40.321892Z",
     "shell.execute_reply.started": "2023-04-30T03:57:40.316509Z"
    }
   },
   "outputs": [
    {
     "name": "stdout",
     "output_type": "stream",
     "text": [
      "0.6111111111111112\n"
     ]
    }
   ],
   "source": [
    "print(df.correct.mean())"
   ]
  },
  {
   "cell_type": "code",
   "execution_count": null,
   "metadata": {},
   "outputs": [],
   "source": []
  }
 ],
 "metadata": {
  "kernelspec": {
   "display_name": "Python 3 (ipykernel)",
   "language": "python",
   "name": "python3"
  },
  "language_info": {
   "codemirror_mode": {
    "name": "ipython",
    "version": 3
   },
   "file_extension": ".py",
   "mimetype": "text/x-python",
   "name": "python",
   "nbconvert_exporter": "python",
   "pygments_lexer": "ipython3",
   "version": "3.9.12"
  }
 },
 "nbformat": 4,
 "nbformat_minor": 4
}
