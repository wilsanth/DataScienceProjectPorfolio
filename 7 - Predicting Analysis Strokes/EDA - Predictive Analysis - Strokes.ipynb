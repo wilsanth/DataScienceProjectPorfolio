{
 "cells": [
  {
   "attachments": {},
   "cell_type": "markdown",
   "metadata": {},
   "source": [
    "#### Project: EDI \n",
    "###### Anthony Wilson\n",
    "DSC 630-T301"
   ]
  },
  {
   "attachments": {},
   "cell_type": "markdown",
   "metadata": {},
   "source": [
    "Introduction: The project will focus on stroke data. I am looking at lifestyle factors that potentially factor into people having strokes. <br><br>\n",
    "Dataset: \"healthcare-dataset-stroke-data.csv\"<br>\n",
    "Source: https://www.kaggle.com/fedesoriano/stroke-prediction-dataset?select=healthcare-dataset-stroke-data.csv<br>\n",
    "Information: The data was posted to help identify someone's odds from the data set having a stroke based on their demographic information and comorbidities. <br>\n",
    "\n",
    "Column:defintion<br>\n",
    "1) id: unique identifier<br>\n",
    "2) gender: \"Male\", \"Female\" or \"Other\"<br>\n",
    "3) age: age of the patient<br>\n",
    "4) hypertension: 0 if the patient doesn't have hypertension, 1 if the patient has hypertension<br>\n",
    "5) heart_disease: 0 if the patient doesn't have any heart diseases, 1 if the patient has a heart disease<br>\n",
    "6) ever_married: \"No\" or \"Yes\"<br>\n",
    "7) work_type: \"children\", \"Govt_jov\", \"Never_worked\", \"Private\" or \"Self-employed\"<br>\n",
    "8) Residence_type: \"Rural\" or \"Urban\"<br>\n",
    "9) avg_glucose_level: average glucose level in blood<br>\n",
    "10) bmi: body mass index<br>\n",
    "11) smoking_status: \"formerly smoked\", \"never smoked\", \"smokes\" or \"Unknown\"*<br>\n",
    "12) stroke: 1 if the patient had a stroke or 0 if not<br>\n",
    "*Note: \"Unknown\" in smoking_status means that the information is unavailable for this patient<br>\n",
    "<b> The column definitions are pulled directly from the website. <b>"
   ]
  },
  {
   "cell_type": "code",
   "execution_count": 1,
   "metadata": {},
   "outputs": [
    {
     "data": {
      "text/html": [
       "<div>\n",
       "<style scoped>\n",
       "    .dataframe tbody tr th:only-of-type {\n",
       "        vertical-align: middle;\n",
       "    }\n",
       "\n",
       "    .dataframe tbody tr th {\n",
       "        vertical-align: top;\n",
       "    }\n",
       "\n",
       "    .dataframe thead th {\n",
       "        text-align: right;\n",
       "    }\n",
       "</style>\n",
       "<table border=\"1\" class=\"dataframe\">\n",
       "  <thead>\n",
       "    <tr style=\"text-align: right;\">\n",
       "      <th></th>\n",
       "      <th>id</th>\n",
       "      <th>gender</th>\n",
       "      <th>age</th>\n",
       "      <th>hypertension</th>\n",
       "      <th>heart_disease</th>\n",
       "      <th>ever_married</th>\n",
       "      <th>work_type</th>\n",
       "      <th>Residence_type</th>\n",
       "      <th>avg_glucose_level</th>\n",
       "      <th>bmi</th>\n",
       "      <th>smoking_status</th>\n",
       "      <th>stroke</th>\n",
       "    </tr>\n",
       "  </thead>\n",
       "  <tbody>\n",
       "    <tr>\n",
       "      <td>0</td>\n",
       "      <td>9046</td>\n",
       "      <td>Male</td>\n",
       "      <td>67.0</td>\n",
       "      <td>0</td>\n",
       "      <td>1</td>\n",
       "      <td>Yes</td>\n",
       "      <td>Private</td>\n",
       "      <td>Urban</td>\n",
       "      <td>228.69</td>\n",
       "      <td>36.6</td>\n",
       "      <td>formerly smoked</td>\n",
       "      <td>1</td>\n",
       "    </tr>\n",
       "    <tr>\n",
       "      <td>1</td>\n",
       "      <td>51676</td>\n",
       "      <td>Female</td>\n",
       "      <td>61.0</td>\n",
       "      <td>0</td>\n",
       "      <td>0</td>\n",
       "      <td>Yes</td>\n",
       "      <td>Self-employed</td>\n",
       "      <td>Rural</td>\n",
       "      <td>202.21</td>\n",
       "      <td>NaN</td>\n",
       "      <td>never smoked</td>\n",
       "      <td>1</td>\n",
       "    </tr>\n",
       "    <tr>\n",
       "      <td>2</td>\n",
       "      <td>31112</td>\n",
       "      <td>Male</td>\n",
       "      <td>80.0</td>\n",
       "      <td>0</td>\n",
       "      <td>1</td>\n",
       "      <td>Yes</td>\n",
       "      <td>Private</td>\n",
       "      <td>Rural</td>\n",
       "      <td>105.92</td>\n",
       "      <td>32.5</td>\n",
       "      <td>never smoked</td>\n",
       "      <td>1</td>\n",
       "    </tr>\n",
       "    <tr>\n",
       "      <td>3</td>\n",
       "      <td>60182</td>\n",
       "      <td>Female</td>\n",
       "      <td>49.0</td>\n",
       "      <td>0</td>\n",
       "      <td>0</td>\n",
       "      <td>Yes</td>\n",
       "      <td>Private</td>\n",
       "      <td>Urban</td>\n",
       "      <td>171.23</td>\n",
       "      <td>34.4</td>\n",
       "      <td>smokes</td>\n",
       "      <td>1</td>\n",
       "    </tr>\n",
       "    <tr>\n",
       "      <td>4</td>\n",
       "      <td>1665</td>\n",
       "      <td>Female</td>\n",
       "      <td>79.0</td>\n",
       "      <td>1</td>\n",
       "      <td>0</td>\n",
       "      <td>Yes</td>\n",
       "      <td>Self-employed</td>\n",
       "      <td>Rural</td>\n",
       "      <td>174.12</td>\n",
       "      <td>24.0</td>\n",
       "      <td>never smoked</td>\n",
       "      <td>1</td>\n",
       "    </tr>\n",
       "  </tbody>\n",
       "</table>\n",
       "</div>"
      ],
      "text/plain": [
       "      id  gender   age  hypertension  heart_disease ever_married  \\\n",
       "0   9046    Male  67.0             0              1          Yes   \n",
       "1  51676  Female  61.0             0              0          Yes   \n",
       "2  31112    Male  80.0             0              1          Yes   \n",
       "3  60182  Female  49.0             0              0          Yes   \n",
       "4   1665  Female  79.0             1              0          Yes   \n",
       "\n",
       "       work_type Residence_type  avg_glucose_level   bmi   smoking_status  \\\n",
       "0        Private          Urban             228.69  36.6  formerly smoked   \n",
       "1  Self-employed          Rural             202.21   NaN     never smoked   \n",
       "2        Private          Rural             105.92  32.5     never smoked   \n",
       "3        Private          Urban             171.23  34.4           smokes   \n",
       "4  Self-employed          Rural             174.12  24.0     never smoked   \n",
       "\n",
       "   stroke  \n",
       "0       1  \n",
       "1       1  \n",
       "2       1  \n",
       "3       1  \n",
       "4       1  "
      ]
     },
     "execution_count": 1,
     "metadata": {},
     "output_type": "execute_result"
    }
   ],
   "source": [
    "# Here we are importing generic libraries to load into a data frame and gain a high-level understanding of the data \n",
    "import numpy as np\n",
    "import pandas as pd\n",
    "df = pd.read_csv(\"healthcare-dataset-stroke-data.csv\")\n",
    "df.head()"
   ]
  },
  {
   "cell_type": "code",
   "execution_count": 2,
   "metadata": {},
   "outputs": [
    {
     "name": "stdout",
     "output_type": "stream",
     "text": [
      "id: 5110 unique; 0 null values\n",
      "\n",
      "gender: 3 unique; 0 null values\n",
      "Female    2994\n",
      "Male      2115\n",
      "Other        1\n",
      "Name: gender, dtype: int64\n",
      "\n",
      "\n",
      "age: 104 unique; 0 null values\n",
      "\n",
      "hypertension: 2 unique; 0 null values\n",
      "0    4612\n",
      "1     498\n",
      "Name: hypertension, dtype: int64\n",
      "\n",
      "\n",
      "heart_disease: 2 unique; 0 null values\n",
      "0    4834\n",
      "1     276\n",
      "Name: heart_disease, dtype: int64\n",
      "\n",
      "\n",
      "ever_married: 2 unique; 0 null values\n",
      "Yes    3353\n",
      "No     1757\n",
      "Name: ever_married, dtype: int64\n",
      "\n",
      "\n",
      "work_type: 5 unique; 0 null values\n",
      "Private          2925\n",
      "Self-employed     819\n",
      "children          687\n",
      "Govt_job          657\n",
      "Never_worked       22\n",
      "Name: work_type, dtype: int64\n",
      "\n",
      "\n",
      "Residence_type: 2 unique; 0 null values\n",
      "Urban    2596\n",
      "Rural    2514\n",
      "Name: Residence_type, dtype: int64\n",
      "\n",
      "\n",
      "avg_glucose_level: 3979 unique; 0 null values\n",
      "\n",
      "bmi: 419 unique; 201 null values\n",
      "\n",
      "smoking_status: 4 unique; 0 null values\n",
      "never smoked       1892\n",
      "Unknown            1544\n",
      "formerly smoked     885\n",
      "smokes              789\n",
      "Name: smoking_status, dtype: int64\n",
      "\n",
      "\n",
      "stroke: 2 unique; 0 null values\n",
      "0    4861\n",
      "1     249\n",
      "Name: stroke, dtype: int64\n",
      "\n",
      "\n"
     ]
    }
   ],
   "source": [
    "#######################################################################################################\n",
    "# Pulling in all column names and looping through each column to evaluate. We are looking for the total \n",
    "# number of unique values, nulls, and display the unique lists when there are less than or equal to 5 \n",
    "# values and their counts.\n",
    "#######################################################################################################\n",
    "columns = df.columns\n",
    "for c in columns:\n",
    "    # initiate variables\n",
    "    u_count = 0                                            #unique values\n",
    "    null_count =0                                          #null counts\n",
    "    u_list = []                                            #list of unique values\n",
    "    # update values for each\n",
    "    u_list = df[c].unique()\n",
    "    u_count = len(u_list)\n",
    "    null_count = df[c].isnull().sum()\n",
    "    if u_count <= 5:\n",
    "        print('{}: {} unique; {} null values'.format(c,u_count, null_count))\n",
    "        print(df[c].value_counts())\n",
    "        print('\\n')\n",
    "    else: \n",
    "        print('{}: {} unique; {} null values\\n'.format(c,u_count, null_count))"
   ]
  },
  {
   "attachments": {},
   "cell_type": "markdown",
   "metadata": {},
   "source": [
    "The data looks clean, based on the summary above. Two things that stick out: \n",
    "1.\tThere is only one gender labeled as “other” I will remove this value from the data set since there is not enough to contribute. \n",
    "2.\tBMI has 201 null values; currently, I am not too worried about this. For now, I will update them to be the average instead of having null values. \n"
   ]
  },
  {
   "cell_type": "code",
   "execution_count": 3,
   "metadata": {},
   "outputs": [
    {
     "data": {
      "text/html": [
       "<div>\n",
       "<style scoped>\n",
       "    .dataframe tbody tr th:only-of-type {\n",
       "        vertical-align: middle;\n",
       "    }\n",
       "\n",
       "    .dataframe tbody tr th {\n",
       "        vertical-align: top;\n",
       "    }\n",
       "\n",
       "    .dataframe thead th {\n",
       "        text-align: right;\n",
       "    }\n",
       "</style>\n",
       "<table border=\"1\" class=\"dataframe\">\n",
       "  <thead>\n",
       "    <tr style=\"text-align: right;\">\n",
       "      <th></th>\n",
       "      <th>id</th>\n",
       "      <th>age</th>\n",
       "      <th>hypertension</th>\n",
       "      <th>heart_disease</th>\n",
       "      <th>avg_glucose_level</th>\n",
       "      <th>bmi</th>\n",
       "      <th>stroke</th>\n",
       "    </tr>\n",
       "  </thead>\n",
       "  <tbody>\n",
       "    <tr>\n",
       "      <td>count</td>\n",
       "      <td>5110.000000</td>\n",
       "      <td>5110.000000</td>\n",
       "      <td>5110.000000</td>\n",
       "      <td>5110.000000</td>\n",
       "      <td>5110.000000</td>\n",
       "      <td>4909.000000</td>\n",
       "      <td>5110.000000</td>\n",
       "    </tr>\n",
       "    <tr>\n",
       "      <td>mean</td>\n",
       "      <td>36517.829354</td>\n",
       "      <td>43.226614</td>\n",
       "      <td>0.097456</td>\n",
       "      <td>0.054012</td>\n",
       "      <td>106.147677</td>\n",
       "      <td>28.893237</td>\n",
       "      <td>0.048728</td>\n",
       "    </tr>\n",
       "    <tr>\n",
       "      <td>std</td>\n",
       "      <td>21161.721625</td>\n",
       "      <td>22.612647</td>\n",
       "      <td>0.296607</td>\n",
       "      <td>0.226063</td>\n",
       "      <td>45.283560</td>\n",
       "      <td>7.854067</td>\n",
       "      <td>0.215320</td>\n",
       "    </tr>\n",
       "    <tr>\n",
       "      <td>min</td>\n",
       "      <td>67.000000</td>\n",
       "      <td>0.080000</td>\n",
       "      <td>0.000000</td>\n",
       "      <td>0.000000</td>\n",
       "      <td>55.120000</td>\n",
       "      <td>10.300000</td>\n",
       "      <td>0.000000</td>\n",
       "    </tr>\n",
       "    <tr>\n",
       "      <td>25%</td>\n",
       "      <td>17741.250000</td>\n",
       "      <td>25.000000</td>\n",
       "      <td>0.000000</td>\n",
       "      <td>0.000000</td>\n",
       "      <td>77.245000</td>\n",
       "      <td>23.500000</td>\n",
       "      <td>0.000000</td>\n",
       "    </tr>\n",
       "    <tr>\n",
       "      <td>50%</td>\n",
       "      <td>36932.000000</td>\n",
       "      <td>45.000000</td>\n",
       "      <td>0.000000</td>\n",
       "      <td>0.000000</td>\n",
       "      <td>91.885000</td>\n",
       "      <td>28.100000</td>\n",
       "      <td>0.000000</td>\n",
       "    </tr>\n",
       "    <tr>\n",
       "      <td>75%</td>\n",
       "      <td>54682.000000</td>\n",
       "      <td>61.000000</td>\n",
       "      <td>0.000000</td>\n",
       "      <td>0.000000</td>\n",
       "      <td>114.090000</td>\n",
       "      <td>33.100000</td>\n",
       "      <td>0.000000</td>\n",
       "    </tr>\n",
       "    <tr>\n",
       "      <td>max</td>\n",
       "      <td>72940.000000</td>\n",
       "      <td>82.000000</td>\n",
       "      <td>1.000000</td>\n",
       "      <td>1.000000</td>\n",
       "      <td>271.740000</td>\n",
       "      <td>97.600000</td>\n",
       "      <td>1.000000</td>\n",
       "    </tr>\n",
       "  </tbody>\n",
       "</table>\n",
       "</div>"
      ],
      "text/plain": [
       "                 id          age  hypertension  heart_disease  \\\n",
       "count   5110.000000  5110.000000   5110.000000    5110.000000   \n",
       "mean   36517.829354    43.226614      0.097456       0.054012   \n",
       "std    21161.721625    22.612647      0.296607       0.226063   \n",
       "min       67.000000     0.080000      0.000000       0.000000   \n",
       "25%    17741.250000    25.000000      0.000000       0.000000   \n",
       "50%    36932.000000    45.000000      0.000000       0.000000   \n",
       "75%    54682.000000    61.000000      0.000000       0.000000   \n",
       "max    72940.000000    82.000000      1.000000       1.000000   \n",
       "\n",
       "       avg_glucose_level          bmi       stroke  \n",
       "count        5110.000000  4909.000000  5110.000000  \n",
       "mean          106.147677    28.893237     0.048728  \n",
       "std            45.283560     7.854067     0.215320  \n",
       "min            55.120000    10.300000     0.000000  \n",
       "25%            77.245000    23.500000     0.000000  \n",
       "50%            91.885000    28.100000     0.000000  \n",
       "75%           114.090000    33.100000     0.000000  \n",
       "max           271.740000    97.600000     1.000000  "
      ]
     },
     "execution_count": 3,
     "metadata": {},
     "output_type": "execute_result"
    }
   ],
   "source": [
    "# Before I make any changes to the data, let's look at the descriptive stats first. \n",
    "df.describe()"
   ]
  },
  {
   "attachments": {},
   "cell_type": "markdown",
   "metadata": {},
   "source": [
    "The participants' average age is 43, the 75 percentile is 61, with the max at 82. The age range seems like a younger group, who may not be at risk for having a stroke.  Nine percent of the participants have hypertension, and Five percent have heart disease. The BMI is at 28.89, which is slightly over the recommended 18.5 to 24.9."
   ]
  },
  {
   "cell_type": "code",
   "execution_count": 4,
   "metadata": {},
   "outputs": [],
   "source": [
    "bins = [0, 18, 30, 40, 50, 60, 65, 90]\n",
    "labels = ['0-18', '18-29', '30-39', '40-49', '50-59', '60-65', '65+']\n",
    "df['age_group'] = pd.cut(df.age, bins, labels = labels,include_lowest = True)"
   ]
  },
  {
   "cell_type": "code",
   "execution_count": 5,
   "metadata": {},
   "outputs": [
    {
     "data": {
      "text/html": [
       "<div>\n",
       "<style scoped>\n",
       "    .dataframe tbody tr th:only-of-type {\n",
       "        vertical-align: middle;\n",
       "    }\n",
       "\n",
       "    .dataframe tbody tr th {\n",
       "        vertical-align: top;\n",
       "    }\n",
       "\n",
       "    .dataframe thead th {\n",
       "        text-align: right;\n",
       "    }\n",
       "</style>\n",
       "<table border=\"1\" class=\"dataframe\">\n",
       "  <thead>\n",
       "    <tr style=\"text-align: right;\">\n",
       "      <th></th>\n",
       "      <th>age_group</th>\n",
       "      <th>percent</th>\n",
       "    </tr>\n",
       "  </thead>\n",
       "  <tbody>\n",
       "    <tr>\n",
       "      <td>65+</td>\n",
       "      <td>156</td>\n",
       "      <td>62.650602</td>\n",
       "    </tr>\n",
       "    <tr>\n",
       "      <td>50-59</td>\n",
       "      <td>49</td>\n",
       "      <td>19.678715</td>\n",
       "    </tr>\n",
       "    <tr>\n",
       "      <td>60-65</td>\n",
       "      <td>21</td>\n",
       "      <td>8.433735</td>\n",
       "    </tr>\n",
       "    <tr>\n",
       "      <td>40-49</td>\n",
       "      <td>15</td>\n",
       "      <td>6.024096</td>\n",
       "    </tr>\n",
       "    <tr>\n",
       "      <td>30-39</td>\n",
       "      <td>6</td>\n",
       "      <td>2.409639</td>\n",
       "    </tr>\n",
       "    <tr>\n",
       "      <td>0-18</td>\n",
       "      <td>2</td>\n",
       "      <td>0.803213</td>\n",
       "    </tr>\n",
       "    <tr>\n",
       "      <td>18-29</td>\n",
       "      <td>0</td>\n",
       "      <td>0.000000</td>\n",
       "    </tr>\n",
       "  </tbody>\n",
       "</table>\n",
       "</div>"
      ],
      "text/plain": [
       "       age_group    percent\n",
       "65+          156  62.650602\n",
       "50-59         49  19.678715\n",
       "60-65         21   8.433735\n",
       "40-49         15   6.024096\n",
       "30-39          6   2.409639\n",
       "0-18           2   0.803213\n",
       "18-29          0   0.000000"
      ]
     },
     "execution_count": 5,
     "metadata": {},
     "output_type": "execute_result"
    }
   ],
   "source": [
    "grouping = df[df.stroke == 1].age_group.value_counts().to_frame()\n",
    "grouping['percent'] = (df[df.stroke == 1].age_group.value_counts(normalize = True).to_frame() *100)\n",
    "grouping"
   ]
  },
  {
   "cell_type": "code",
   "execution_count": 6,
   "metadata": {},
   "outputs": [
    {
     "data": {
      "text/html": [
       "<div>\n",
       "<style scoped>\n",
       "    .dataframe tbody tr th:only-of-type {\n",
       "        vertical-align: middle;\n",
       "    }\n",
       "\n",
       "    .dataframe tbody tr th {\n",
       "        vertical-align: top;\n",
       "    }\n",
       "\n",
       "    .dataframe thead th {\n",
       "        text-align: right;\n",
       "    }\n",
       "</style>\n",
       "<table border=\"1\" class=\"dataframe\">\n",
       "  <thead>\n",
       "    <tr style=\"text-align: right;\">\n",
       "      <th></th>\n",
       "      <th>age_group</th>\n",
       "    </tr>\n",
       "  </thead>\n",
       "  <tbody>\n",
       "    <tr>\n",
       "      <td>65+</td>\n",
       "      <td>156</td>\n",
       "    </tr>\n",
       "    <tr>\n",
       "      <td>50-59</td>\n",
       "      <td>49</td>\n",
       "    </tr>\n",
       "    <tr>\n",
       "      <td>60-65</td>\n",
       "      <td>21</td>\n",
       "    </tr>\n",
       "    <tr>\n",
       "      <td>40-49</td>\n",
       "      <td>15</td>\n",
       "    </tr>\n",
       "    <tr>\n",
       "      <td>30-39</td>\n",
       "      <td>6</td>\n",
       "    </tr>\n",
       "    <tr>\n",
       "      <td>0-18</td>\n",
       "      <td>2</td>\n",
       "    </tr>\n",
       "    <tr>\n",
       "      <td>18-29</td>\n",
       "      <td>0</td>\n",
       "    </tr>\n",
       "  </tbody>\n",
       "</table>\n",
       "</div>"
      ],
      "text/plain": [
       "       age_group\n",
       "65+          156\n",
       "50-59         49\n",
       "60-65         21\n",
       "40-49         15\n",
       "30-39          6\n",
       "0-18           2\n",
       "18-29          0"
      ]
     },
     "execution_count": 6,
     "metadata": {},
     "output_type": "execute_result"
    }
   ],
   "source": [
    "(df[df.stroke == 1].age_group.value_counts().to_frame())"
   ]
  },
  {
   "cell_type": "code",
   "execution_count": 7,
   "metadata": {},
   "outputs": [
    {
     "data": {
      "text/html": [
       "<div>\n",
       "<style scoped>\n",
       "    .dataframe tbody tr th:only-of-type {\n",
       "        vertical-align: middle;\n",
       "    }\n",
       "\n",
       "    .dataframe tbody tr th {\n",
       "        vertical-align: top;\n",
       "    }\n",
       "\n",
       "    .dataframe thead th {\n",
       "        text-align: right;\n",
       "    }\n",
       "</style>\n",
       "<table border=\"1\" class=\"dataframe\">\n",
       "  <thead>\n",
       "    <tr style=\"text-align: right;\">\n",
       "      <th></th>\n",
       "      <th></th>\n",
       "      <th>stroke</th>\n",
       "    </tr>\n",
       "    <tr>\n",
       "      <th>age_group</th>\n",
       "      <th>stroke</th>\n",
       "      <th></th>\n",
       "    </tr>\n",
       "  </thead>\n",
       "  <tbody>\n",
       "    <tr>\n",
       "      <td rowspan=\"2\" valign=\"top\">0-18</td>\n",
       "      <td>0</td>\n",
       "      <td>914</td>\n",
       "    </tr>\n",
       "    <tr>\n",
       "      <td>1</td>\n",
       "      <td>2</td>\n",
       "    </tr>\n",
       "    <tr>\n",
       "      <td>18-29</td>\n",
       "      <td>0</td>\n",
       "      <td>654</td>\n",
       "    </tr>\n",
       "    <tr>\n",
       "      <td rowspan=\"2\" valign=\"top\">30-39</td>\n",
       "      <td>0</td>\n",
       "      <td>668</td>\n",
       "    </tr>\n",
       "    <tr>\n",
       "      <td>1</td>\n",
       "      <td>6</td>\n",
       "    </tr>\n",
       "    <tr>\n",
       "      <td rowspan=\"2\" valign=\"top\">40-49</td>\n",
       "      <td>0</td>\n",
       "      <td>724</td>\n",
       "    </tr>\n",
       "    <tr>\n",
       "      <td>1</td>\n",
       "      <td>15</td>\n",
       "    </tr>\n",
       "    <tr>\n",
       "      <td rowspan=\"2\" valign=\"top\">50-59</td>\n",
       "      <td>0</td>\n",
       "      <td>774</td>\n",
       "    </tr>\n",
       "    <tr>\n",
       "      <td>1</td>\n",
       "      <td>49</td>\n",
       "    </tr>\n",
       "    <tr>\n",
       "      <td rowspan=\"2\" valign=\"top\">60-65</td>\n",
       "      <td>0</td>\n",
       "      <td>318</td>\n",
       "    </tr>\n",
       "    <tr>\n",
       "      <td>1</td>\n",
       "      <td>21</td>\n",
       "    </tr>\n",
       "    <tr>\n",
       "      <td rowspan=\"2\" valign=\"top\">65+</td>\n",
       "      <td>0</td>\n",
       "      <td>809</td>\n",
       "    </tr>\n",
       "    <tr>\n",
       "      <td>1</td>\n",
       "      <td>156</td>\n",
       "    </tr>\n",
       "  </tbody>\n",
       "</table>\n",
       "</div>"
      ],
      "text/plain": [
       "                  stroke\n",
       "age_group stroke        \n",
       "0-18      0          914\n",
       "          1            2\n",
       "18-29     0          654\n",
       "30-39     0          668\n",
       "          1            6\n",
       "40-49     0          724\n",
       "          1           15\n",
       "50-59     0          774\n",
       "          1           49\n",
       "60-65     0          318\n",
       "          1           21\n",
       "65+       0          809\n",
       "          1          156"
      ]
     },
     "execution_count": 7,
     "metadata": {},
     "output_type": "execute_result"
    }
   ],
   "source": [
    "df.groupby('age_group')['stroke'].value_counts().to_frame()"
   ]
  },
  {
   "cell_type": "code",
   "execution_count": 8,
   "metadata": {},
   "outputs": [],
   "source": [
    "import seaborn as sns\n",
    "import matplotlib.pyplot as plt\n",
    "def with_percents(ax,data):\n",
    "    total = len(data)\n",
    "    for p in ax.patches:\n",
    "        percentage = '{:.1f}%'.format(100 * p.get_width()/total)\n",
    "        x = p.get_x() + p.get_width() + 0.02\n",
    "        y = p.get_y() + p.get_height()/ 2\n",
    "        ax.annotate(percentage, (x, y))\n",
    "    plt.show()\n",
    "    \n",
    "def with_counts(ax,data):\n",
    "    total = len(data)\n",
    "    for p in ax.patches:\n",
    "        percentage = '{:.0f}'.format(p.get_width())\n",
    "        x = p.get_x() + p.get_width() + 0.02\n",
    "        y = p.get_y() + p.get_height()/ 2\n",
    "        ax.annotate(percentage, (x, y))\n",
    "    plt.show()\n",
    "\n",
    "def with_both(ax,data):\n",
    "    total = len(data)\n",
    "    for p in ax.patches:\n",
    "        percentage = '{:.0f} - {:.1f}%'.format(p.get_width(), 100 * p.get_width()/total)\n",
    "        x = p.get_x() + p.get_width() + 0.02\n",
    "        y = p.get_y() + p.get_height()/ 2\n",
    "        ax.annotate(percentage, (x, y))\n",
    "    plt.show()"
   ]
  },
  {
   "cell_type": "code",
   "execution_count": 9,
   "metadata": {},
   "outputs": [],
   "source": [
    "colors  = [\"#3F3F3F\",\"#ED7D31\"]\n",
    "customPalette = sns.set_palette(sns.color_palette(colors))"
   ]
  },
  {
   "cell_type": "code",
   "execution_count": 10,
   "metadata": {},
   "outputs": [
    {
     "data": {
      "image/png": "[encoded data removed]",
      "text/plain": [
       "<Figure size 402.375x360 with 1 Axes>"
      ]
     },
     "metadata": {
      "needs_background": "light"
     },
     "output_type": "display_data"
    }
   ],
   "source": [
    "ax  = sns.catplot(y=\"age_group\", hue=\"stroke\", kind=\"count\",data=df, color = customPalette).set(title = \"Age Group Counts and Break Out of Strokes\")\n",
    "with_both(ax.ax, df)"
   ]
  },
  {
   "cell_type": "code",
   "execution_count": 11,
   "metadata": {},
   "outputs": [],
   "source": [
    "bins = [0, 18.5, 21.0, 23.5, 25.0, 26.5, 28, 30, 98]\n",
    "labels = ['0-18.4','18.5–20.9', '21.0–23.4','23.5–24.9', '25.0–26.4', '26.5–27.9','28.0–29.9', '30.0+']\n",
    "df['bmi_grouping'] = pd.cut(df.bmi,bins, labels = labels,include_lowest = True)"
   ]
  },
  {
   "cell_type": "code",
   "execution_count": 12,
   "metadata": {
    "scrolled": true
   },
   "outputs": [
    {
     "data": {
      "image/png": "[encoded data removed]",
      "text/plain": [
       "<Figure size 360x360 with 1 Axes>"
      ]
     },
     "metadata": {
      "needs_background": "light"
     },
     "output_type": "display_data"
    }
   ],
   "source": [
    "ax  = sns.catplot(y=\"bmi_grouping\", kind=\"count\",data=df).set(title = \"BMI Counts\")\n",
    "with_both(ax.ax, df)"
   ]
  },
  {
   "cell_type": "code",
   "execution_count": 13,
   "metadata": {
    "scrolled": false
   },
   "outputs": [
    {
     "data": {
      "image/png": "[encoded data removed]",
      "text/plain": [
       "<Figure size 402.375x360 with 1 Axes>"
      ]
     },
     "metadata": {
      "needs_background": "light"
     },
     "output_type": "display_data"
    }
   ],
   "source": [
    "ax  = sns.catplot(y=\"bmi_grouping\", hue=\"stroke\", kind=\"count\",data=df, color = customPalette).set(title = \"BMI Counts and Break Out of Strokes\")\n",
    "with_both(ax.ax, df)"
   ]
  },
  {
   "cell_type": "code",
   "execution_count": 14,
   "metadata": {},
   "outputs": [],
   "source": [
    "bins = [55, 70, 181, 250, 272]\n",
    "labels = ['55–69', '70–180','181–249', '250+']\n",
    "df['glucose_grouping'] = pd.cut(df.avg_glucose_level,bins, labels = labels,include_lowest = True)"
   ]
  },
  {
   "cell_type": "code",
   "execution_count": 15,
   "metadata": {},
   "outputs": [
    {
     "data": {
      "image/png": "[encoded data removed]",
      "text/plain": [
       "<Figure size 360x360 with 1 Axes>"
      ]
     },
     "metadata": {
      "needs_background": "light"
     },
     "output_type": "display_data"
    }
   ],
   "source": [
    "ax  = sns.catplot(y=\"glucose_grouping\", kind=\"count\",data=df).set(title = \"Avg. Glucose Group Counts\")\n",
    "with_both(ax.ax, df)"
   ]
  },
  {
   "cell_type": "code",
   "execution_count": 16,
   "metadata": {
    "scrolled": false
   },
   "outputs": [
    {
     "data": {
      "image/png": "[encoded data removed]",
      "text/plain": [
       "<Figure size 402.375x360 with 1 Axes>"
      ]
     },
     "metadata": {
      "needs_background": "light"
     },
     "output_type": "display_data"
    }
   ],
   "source": [
    "ax  = sns.catplot(y=\"glucose_grouping\", hue=\"stroke\", kind=\"count\",data=df).set(\n",
    "    title = \"Avg. Glucose Group Counts and Break Out of Strokes\")\n",
    "with_both(ax.ax, df)"
   ]
  },
  {
   "cell_type": "code",
   "execution_count": 17,
   "metadata": {},
   "outputs": [
    {
     "data": {
      "text/html": [
       "<div>\n",
       "<style scoped>\n",
       "    .dataframe tbody tr th:only-of-type {\n",
       "        vertical-align: middle;\n",
       "    }\n",
       "\n",
       "    .dataframe tbody tr th {\n",
       "        vertical-align: top;\n",
       "    }\n",
       "\n",
       "    .dataframe thead th {\n",
       "        text-align: right;\n",
       "    }\n",
       "</style>\n",
       "<table border=\"1\" class=\"dataframe\">\n",
       "  <thead>\n",
       "    <tr style=\"text-align: right;\">\n",
       "      <th></th>\n",
       "      <th></th>\n",
       "      <th>stroke</th>\n",
       "    </tr>\n",
       "    <tr>\n",
       "      <th>glucose_grouping</th>\n",
       "      <th>stroke</th>\n",
       "      <th></th>\n",
       "    </tr>\n",
       "  </thead>\n",
       "  <tbody>\n",
       "    <tr>\n",
       "      <td rowspan=\"2\" valign=\"top\">55–69</td>\n",
       "      <td>0</td>\n",
       "      <td>0.964286</td>\n",
       "    </tr>\n",
       "    <tr>\n",
       "      <td>1</td>\n",
       "      <td>0.035714</td>\n",
       "    </tr>\n",
       "    <tr>\n",
       "      <td rowspan=\"2\" valign=\"top\">70–180</td>\n",
       "      <td>0</td>\n",
       "      <td>0.961864</td>\n",
       "    </tr>\n",
       "    <tr>\n",
       "      <td>1</td>\n",
       "      <td>0.038136</td>\n",
       "    </tr>\n",
       "    <tr>\n",
       "      <td rowspan=\"2\" valign=\"top\">181–249</td>\n",
       "      <td>0</td>\n",
       "      <td>0.867993</td>\n",
       "    </tr>\n",
       "    <tr>\n",
       "      <td>1</td>\n",
       "      <td>0.132007</td>\n",
       "    </tr>\n",
       "    <tr>\n",
       "      <td rowspan=\"2\" valign=\"top\">250+</td>\n",
       "      <td>0</td>\n",
       "      <td>0.800000</td>\n",
       "    </tr>\n",
       "    <tr>\n",
       "      <td>1</td>\n",
       "      <td>0.200000</td>\n",
       "    </tr>\n",
       "  </tbody>\n",
       "</table>\n",
       "</div>"
      ],
      "text/plain": [
       "                           stroke\n",
       "glucose_grouping stroke          \n",
       "55–69            0       0.964286\n",
       "                 1       0.035714\n",
       "70–180           0       0.961864\n",
       "                 1       0.038136\n",
       "181–249          0       0.867993\n",
       "                 1       0.132007\n",
       "250+             0       0.800000\n",
       "                 1       0.200000"
      ]
     },
     "execution_count": 17,
     "metadata": {},
     "output_type": "execute_result"
    }
   ],
   "source": [
    "df.groupby('glucose_grouping').stroke.value_counts(normalize = True).to_frame()"
   ]
  },
  {
   "cell_type": "code",
   "execution_count": 18,
   "metadata": {},
   "outputs": [
    {
     "data": {
      "image/png": "[encoded data removed]",
      "text/plain": [
       "<Figure size 360x360 with 1 Axes>"
      ]
     },
     "metadata": {
      "needs_background": "light"
     },
     "output_type": "display_data"
    }
   ],
   "source": [
    "ax  = sns.catplot(y=\"gender\", kind=\"count\",data=df).set(title = \"Gender Counts and Break Out of Strokes\")\n",
    "with_both(ax.ax, df)"
   ]
  },
  {
   "cell_type": "code",
   "execution_count": 19,
   "metadata": {},
   "outputs": [
    {
     "data": {
      "image/png": "[encoded data removed]",
      "text/plain": [
       "<Figure size 360x360 with 1 Axes>"
      ]
     },
     "metadata": {
      "needs_background": "light"
     },
     "output_type": "display_data"
    }
   ],
   "source": [
    "ax  = sns.catplot(y=\"hypertension\",  kind=\"count\",data=df).set(title = \"Hypertension Counts and Break Out of Strokes\")\n",
    "with_both(ax.ax, df)"
   ]
  },
  {
   "cell_type": "code",
   "execution_count": 20,
   "metadata": {},
   "outputs": [
    {
     "data": {
      "image/png": "[encoded data removed]",
      "text/plain": [
       "<Figure size 402.375x360 with 1 Axes>"
      ]
     },
     "metadata": {
      "needs_background": "light"
     },
     "output_type": "display_data"
    }
   ],
   "source": [
    "ax  = sns.catplot(y=\"hypertension\", hue=\"stroke\", kind=\"count\",data=df).set(title = \"Hypertension Counts and Break Out of Strokes\")\n",
    "with_both(ax.ax, df)"
   ]
  },
  {
   "cell_type": "code",
   "execution_count": 21,
   "metadata": {},
   "outputs": [
    {
     "data": {
      "image/png": "[encoded data removed]",
      "text/plain": [
       "<Figure size 360x360 with 1 Axes>"
      ]
     },
     "metadata": {
      "needs_background": "light"
     },
     "output_type": "display_data"
    }
   ],
   "source": [
    "ax  = sns.catplot(y=\"heart_disease\",  kind=\"count\",data=df).set(title = \"Heart Disease Counts and Break Out of Strokes\")\n",
    "with_both(ax.ax, df)"
   ]
  },
  {
   "cell_type": "code",
   "execution_count": 22,
   "metadata": {},
   "outputs": [
    {
     "data": {
      "image/png": "[encoded data removed]",
      "text/plain": [
       "<Figure size 402.375x360 with 1 Axes>"
      ]
     },
     "metadata": {
      "needs_background": "light"
     },
     "output_type": "display_data"
    }
   ],
   "source": [
    "ax  = sns.catplot(y=\"heart_disease\", hue=\"stroke\", kind=\"count\",data=df).set(title = \"Heart Disease Counts and Break Out of Strokes\")\n",
    "with_both(ax.ax, df)"
   ]
  },
  {
   "cell_type": "code",
   "execution_count": 23,
   "metadata": {},
   "outputs": [
    {
     "data": {
      "image/png": "[encoded data removed]",
      "text/plain": [
       "<Figure size 360x360 with 1 Axes>"
      ]
     },
     "metadata": {
      "needs_background": "light"
     },
     "output_type": "display_data"
    }
   ],
   "source": [
    "ax  = sns.catplot(y=\"ever_married\",  kind=\"count\",data=df).set(title = \"Ever Married Counts\")\n",
    "with_both(ax.ax, df)"
   ]
  },
  {
   "cell_type": "code",
   "execution_count": 24,
   "metadata": {},
   "outputs": [
    {
     "data": {
      "image/png": "[encoded data removed]",
      "text/plain": [
       "<Figure size 402.375x360 with 1 Axes>"
      ]
     },
     "metadata": {
      "needs_background": "light"
     },
     "output_type": "display_data"
    }
   ],
   "source": [
    "ax  = sns.catplot(y=\"ever_married\", hue=\"stroke\", kind=\"count\",data=df).set(title = \"Ever Married Counts and Break Out of Strokes\")\n",
    "with_both(ax.ax, df)"
   ]
  },
  {
   "cell_type": "code",
   "execution_count": 25,
   "metadata": {},
   "outputs": [
    {
     "data": {
      "image/png": "[encoded data removed]",
      "text/plain": [
       "<Figure size 360x360 with 1 Axes>"
      ]
     },
     "metadata": {
      "needs_background": "light"
     },
     "output_type": "display_data"
    }
   ],
   "source": [
    "ax  = sns.catplot(y=\"work_type\",  kind=\"count\",data=df).set(title = \"Work Type Counts\")\n",
    "with_both(ax.ax, df)"
   ]
  },
  {
   "cell_type": "code",
   "execution_count": 26,
   "metadata": {},
   "outputs": [
    {
     "data": {
      "image/png": "[encoded data removed]",
      "text/plain": [
       "<Figure size 402.375x360 with 1 Axes>"
      ]
     },
     "metadata": {
      "needs_background": "light"
     },
     "output_type": "display_data"
    }
   ],
   "source": [
    "ax  = sns.catplot(y=\"work_type\", hue=\"stroke\", kind=\"count\",data=df).set(title = \"Work Type Counts and Break Out of Strokes\")\n",
    "with_both(ax.ax, df)"
   ]
  },
  {
   "cell_type": "code",
   "execution_count": 27,
   "metadata": {},
   "outputs": [
    {
     "data": {
      "image/png": "[encoded data removed]",
      "text/plain": [
       "<Figure size 360x360 with 1 Axes>"
      ]
     },
     "metadata": {
      "needs_background": "light"
     },
     "output_type": "display_data"
    }
   ],
   "source": [
    "ax  = sns.catplot(y=\"Residence_type\", kind=\"count\",data=df).set(title = \"Residence Type Counts and Break Out of Strokes\")\n",
    "with_both(ax.ax, df)"
   ]
  },
  {
   "cell_type": "code",
   "execution_count": 28,
   "metadata": {},
   "outputs": [
    {
     "data": {
      "image/png": "[encoded data removed]",
      "text/plain": [
       "<Figure size 402.375x360 with 1 Axes>"
      ]
     },
     "metadata": {
      "needs_background": "light"
     },
     "output_type": "display_data"
    }
   ],
   "source": [
    "ax  = sns.catplot(y=\"Residence_type\", hue=\"stroke\", kind=\"count\",data=df).set(title = \"Residence Type Counts and Break Out of Strokes\")\n",
    "with_both(ax.ax, df)"
   ]
  },
  {
   "cell_type": "code",
   "execution_count": 29,
   "metadata": {},
   "outputs": [
    {
     "data": {
      "image/png": "[encoded data removed]",
      "text/plain": [
       "<Figure size 360x360 with 1 Axes>"
      ]
     },
     "metadata": {
      "needs_background": "light"
     },
     "output_type": "display_data"
    }
   ],
   "source": [
    "ax  = sns.catplot(y=\"smoking_status\",  kind=\"count\",data=df).set(title = \"Smoking Status Counts and Break Out of Strokes\")\n",
    "with_both(ax.ax, df)"
   ]
  },
  {
   "cell_type": "code",
   "execution_count": 30,
   "metadata": {},
   "outputs": [
    {
     "data": {
      "image/png": "[encoded data removed]",
      "text/plain": [
       "<Figure size 402.375x360 with 1 Axes>"
      ]
     },
     "metadata": {
      "needs_background": "light"
     },
     "output_type": "display_data"
    }
   ],
   "source": [
    "ax  = sns.catplot(y=\"smoking_status\", hue=\"stroke\", kind=\"count\",data=df).set(title = \"Smoking Status Counts and Break Out of Strokes\")\n",
    "with_both(ax.ax, df)"
   ]
  },
  {
   "cell_type": "code",
   "execution_count": 31,
   "metadata": {},
   "outputs": [
    {
     "data": {
      "text/html": [
       "<div>\n",
       "<style scoped>\n",
       "    .dataframe tbody tr th:only-of-type {\n",
       "        vertical-align: middle;\n",
       "    }\n",
       "\n",
       "    .dataframe tbody tr th {\n",
       "        vertical-align: top;\n",
       "    }\n",
       "\n",
       "    .dataframe thead th {\n",
       "        text-align: right;\n",
       "    }\n",
       "</style>\n",
       "<table border=\"1\" class=\"dataframe\">\n",
       "  <thead>\n",
       "    <tr style=\"text-align: right;\">\n",
       "      <th></th>\n",
       "      <th>id</th>\n",
       "      <th>age</th>\n",
       "      <th>hypertension</th>\n",
       "      <th>heart_disease</th>\n",
       "      <th>avg_glucose_level</th>\n",
       "      <th>bmi</th>\n",
       "      <th>stroke</th>\n",
       "    </tr>\n",
       "  </thead>\n",
       "  <tbody>\n",
       "    <tr>\n",
       "      <td>count</td>\n",
       "      <td>5110.000000</td>\n",
       "      <td>5110.000000</td>\n",
       "      <td>5110.000000</td>\n",
       "      <td>5110.000000</td>\n",
       "      <td>5110.000000</td>\n",
       "      <td>5110.000000</td>\n",
       "      <td>5110.000000</td>\n",
       "    </tr>\n",
       "    <tr>\n",
       "      <td>mean</td>\n",
       "      <td>36517.829354</td>\n",
       "      <td>43.226614</td>\n",
       "      <td>0.097456</td>\n",
       "      <td>0.054012</td>\n",
       "      <td>106.147677</td>\n",
       "      <td>28.893237</td>\n",
       "      <td>0.048728</td>\n",
       "    </tr>\n",
       "    <tr>\n",
       "      <td>std</td>\n",
       "      <td>21161.721625</td>\n",
       "      <td>22.612647</td>\n",
       "      <td>0.296607</td>\n",
       "      <td>0.226063</td>\n",
       "      <td>45.283560</td>\n",
       "      <td>7.698018</td>\n",
       "      <td>0.215320</td>\n",
       "    </tr>\n",
       "    <tr>\n",
       "      <td>min</td>\n",
       "      <td>67.000000</td>\n",
       "      <td>0.080000</td>\n",
       "      <td>0.000000</td>\n",
       "      <td>0.000000</td>\n",
       "      <td>55.120000</td>\n",
       "      <td>10.300000</td>\n",
       "      <td>0.000000</td>\n",
       "    </tr>\n",
       "    <tr>\n",
       "      <td>25%</td>\n",
       "      <td>17741.250000</td>\n",
       "      <td>25.000000</td>\n",
       "      <td>0.000000</td>\n",
       "      <td>0.000000</td>\n",
       "      <td>77.245000</td>\n",
       "      <td>23.800000</td>\n",
       "      <td>0.000000</td>\n",
       "    </tr>\n",
       "    <tr>\n",
       "      <td>50%</td>\n",
       "      <td>36932.000000</td>\n",
       "      <td>45.000000</td>\n",
       "      <td>0.000000</td>\n",
       "      <td>0.000000</td>\n",
       "      <td>91.885000</td>\n",
       "      <td>28.400000</td>\n",
       "      <td>0.000000</td>\n",
       "    </tr>\n",
       "    <tr>\n",
       "      <td>75%</td>\n",
       "      <td>54682.000000</td>\n",
       "      <td>61.000000</td>\n",
       "      <td>0.000000</td>\n",
       "      <td>0.000000</td>\n",
       "      <td>114.090000</td>\n",
       "      <td>32.800000</td>\n",
       "      <td>0.000000</td>\n",
       "    </tr>\n",
       "    <tr>\n",
       "      <td>max</td>\n",
       "      <td>72940.000000</td>\n",
       "      <td>82.000000</td>\n",
       "      <td>1.000000</td>\n",
       "      <td>1.000000</td>\n",
       "      <td>271.740000</td>\n",
       "      <td>97.600000</td>\n",
       "      <td>1.000000</td>\n",
       "    </tr>\n",
       "  </tbody>\n",
       "</table>\n",
       "</div>"
      ],
      "text/plain": [
       "                 id          age  hypertension  heart_disease  \\\n",
       "count   5110.000000  5110.000000   5110.000000    5110.000000   \n",
       "mean   36517.829354    43.226614      0.097456       0.054012   \n",
       "std    21161.721625    22.612647      0.296607       0.226063   \n",
       "min       67.000000     0.080000      0.000000       0.000000   \n",
       "25%    17741.250000    25.000000      0.000000       0.000000   \n",
       "50%    36932.000000    45.000000      0.000000       0.000000   \n",
       "75%    54682.000000    61.000000      0.000000       0.000000   \n",
       "max    72940.000000    82.000000      1.000000       1.000000   \n",
       "\n",
       "       avg_glucose_level          bmi       stroke  \n",
       "count        5110.000000  5110.000000  5110.000000  \n",
       "mean          106.147677    28.893237     0.048728  \n",
       "std            45.283560     7.698018     0.215320  \n",
       "min            55.120000    10.300000     0.000000  \n",
       "25%            77.245000    23.800000     0.000000  \n",
       "50%            91.885000    28.400000     0.000000  \n",
       "75%           114.090000    32.800000     0.000000  \n",
       "max           271.740000    97.600000     1.000000  "
      ]
     },
     "execution_count": 31,
     "metadata": {},
     "output_type": "execute_result"
    }
   ],
   "source": [
    "# update the null BMI values to the average\n",
    "df_archive_1 = df\n",
    "df = df.fillna(df.mean())\n",
    "df = df[df['gender'] != 'other']\n",
    "df.describe()"
   ]
  },
  {
   "attachments": {},
   "cell_type": "markdown",
   "metadata": {},
   "source": [
    "### Feature Engineering\n",
    "Here the variables are going to get cleaned up and ready for the model. We want to try and limit the number of variables that we have, but also have the data available for training the model. After we have create features we will start digging deeper into the data for Feature Selection. "
   ]
  },
  {
   "cell_type": "code",
   "execution_count": 32,
   "metadata": {},
   "outputs": [
    {
     "data": {
      "text/html": [
       "<div>\n",
       "<style scoped>\n",
       "    .dataframe tbody tr th:only-of-type {\n",
       "        vertical-align: middle;\n",
       "    }\n",
       "\n",
       "    .dataframe tbody tr th {\n",
       "        vertical-align: top;\n",
       "    }\n",
       "\n",
       "    .dataframe thead th {\n",
       "        text-align: right;\n",
       "    }\n",
       "</style>\n",
       "<table border=\"1\" class=\"dataframe\">\n",
       "  <thead>\n",
       "    <tr style=\"text-align: right;\">\n",
       "      <th></th>\n",
       "      <th>id</th>\n",
       "      <th>gender</th>\n",
       "      <th>age</th>\n",
       "      <th>hypertension</th>\n",
       "      <th>heart_disease</th>\n",
       "      <th>ever_married</th>\n",
       "      <th>work_type</th>\n",
       "      <th>Residence_type</th>\n",
       "      <th>avg_glucose_level</th>\n",
       "      <th>bmi</th>\n",
       "      <th>smoking_status</th>\n",
       "      <th>stroke</th>\n",
       "      <th>age_group</th>\n",
       "      <th>bmi_grouping</th>\n",
       "      <th>glucose_grouping</th>\n",
       "    </tr>\n",
       "  </thead>\n",
       "  <tbody>\n",
       "    <tr>\n",
       "      <td>0</td>\n",
       "      <td>9046</td>\n",
       "      <td>Male</td>\n",
       "      <td>67.0</td>\n",
       "      <td>0</td>\n",
       "      <td>1</td>\n",
       "      <td>Yes</td>\n",
       "      <td>Private</td>\n",
       "      <td>Urban</td>\n",
       "      <td>228.69</td>\n",
       "      <td>36.600000</td>\n",
       "      <td>formerly smoked</td>\n",
       "      <td>1</td>\n",
       "      <td>65+</td>\n",
       "      <td>30.0+</td>\n",
       "      <td>181–249</td>\n",
       "    </tr>\n",
       "    <tr>\n",
       "      <td>1</td>\n",
       "      <td>51676</td>\n",
       "      <td>Female</td>\n",
       "      <td>61.0</td>\n",
       "      <td>0</td>\n",
       "      <td>0</td>\n",
       "      <td>Yes</td>\n",
       "      <td>Self-employed</td>\n",
       "      <td>Rural</td>\n",
       "      <td>202.21</td>\n",
       "      <td>28.893237</td>\n",
       "      <td>never smoked</td>\n",
       "      <td>1</td>\n",
       "      <td>60-65</td>\n",
       "      <td>NaN</td>\n",
       "      <td>181–249</td>\n",
       "    </tr>\n",
       "    <tr>\n",
       "      <td>2</td>\n",
       "      <td>31112</td>\n",
       "      <td>Male</td>\n",
       "      <td>80.0</td>\n",
       "      <td>0</td>\n",
       "      <td>1</td>\n",
       "      <td>Yes</td>\n",
       "      <td>Private</td>\n",
       "      <td>Rural</td>\n",
       "      <td>105.92</td>\n",
       "      <td>32.500000</td>\n",
       "      <td>never smoked</td>\n",
       "      <td>1</td>\n",
       "      <td>65+</td>\n",
       "      <td>30.0+</td>\n",
       "      <td>70–180</td>\n",
       "    </tr>\n",
       "    <tr>\n",
       "      <td>3</td>\n",
       "      <td>60182</td>\n",
       "      <td>Female</td>\n",
       "      <td>49.0</td>\n",
       "      <td>0</td>\n",
       "      <td>0</td>\n",
       "      <td>Yes</td>\n",
       "      <td>Private</td>\n",
       "      <td>Urban</td>\n",
       "      <td>171.23</td>\n",
       "      <td>34.400000</td>\n",
       "      <td>smokes</td>\n",
       "      <td>1</td>\n",
       "      <td>40-49</td>\n",
       "      <td>30.0+</td>\n",
       "      <td>70–180</td>\n",
       "    </tr>\n",
       "    <tr>\n",
       "      <td>4</td>\n",
       "      <td>1665</td>\n",
       "      <td>Female</td>\n",
       "      <td>79.0</td>\n",
       "      <td>1</td>\n",
       "      <td>0</td>\n",
       "      <td>Yes</td>\n",
       "      <td>Self-employed</td>\n",
       "      <td>Rural</td>\n",
       "      <td>174.12</td>\n",
       "      <td>24.000000</td>\n",
       "      <td>never smoked</td>\n",
       "      <td>1</td>\n",
       "      <td>65+</td>\n",
       "      <td>23.5–24.9</td>\n",
       "      <td>70–180</td>\n",
       "    </tr>\n",
       "  </tbody>\n",
       "</table>\n",
       "</div>"
      ],
      "text/plain": [
       "      id  gender   age  hypertension  heart_disease ever_married  \\\n",
       "0   9046    Male  67.0             0              1          Yes   \n",
       "1  51676  Female  61.0             0              0          Yes   \n",
       "2  31112    Male  80.0             0              1          Yes   \n",
       "3  60182  Female  49.0             0              0          Yes   \n",
       "4   1665  Female  79.0             1              0          Yes   \n",
       "\n",
       "       work_type Residence_type  avg_glucose_level        bmi  \\\n",
       "0        Private          Urban             228.69  36.600000   \n",
       "1  Self-employed          Rural             202.21  28.893237   \n",
       "2        Private          Rural             105.92  32.500000   \n",
       "3        Private          Urban             171.23  34.400000   \n",
       "4  Self-employed          Rural             174.12  24.000000   \n",
       "\n",
       "    smoking_status  stroke age_group bmi_grouping glucose_grouping  \n",
       "0  formerly smoked       1       65+        30.0+          181–249  \n",
       "1     never smoked       1     60-65          NaN          181–249  \n",
       "2     never smoked       1       65+        30.0+           70–180  \n",
       "3           smokes       1     40-49        30.0+           70–180  \n",
       "4     never smoked       1       65+    23.5–24.9           70–180  "
      ]
     },
     "execution_count": 32,
     "metadata": {},
     "output_type": "execute_result"
    }
   ],
   "source": [
    "df_archive_2 = df\n",
    "df.head()"
   ]
  },
  {
   "cell_type": "code",
   "execution_count": 33,
   "metadata": {},
   "outputs": [],
   "source": [
    "# We are using pandas get_dummies to prep the data so we only have numbers and no strings for categorical variables\n",
    "df = pd.get_dummies(df)"
   ]
  },
  {
   "cell_type": "code",
   "execution_count": 34,
   "metadata": {},
   "outputs": [],
   "source": [
    "# remove spaces and add '_' so the data is easier to work with\n",
    "df = df.rename(columns = lambda x: str(x).lower().replace(' ', '_'))"
   ]
  },
  {
   "attachments": {},
   "cell_type": "markdown",
   "metadata": {},
   "source": [
    "We are removing gender_male, ever_married_no, work_type_never_worked, residence_type_urban, and smoking_status_uknown. Each of these variables if we don't have them we can identify them through variables that are similar. For example, gender_male, if gender_female = 0 then the patient must be a male, since we got rid of the one 'other'."
   ]
  },
  {
   "cell_type": "code",
   "execution_count": 35,
   "metadata": {},
   "outputs": [],
   "source": [
    "# define which columns that we want to use in our data set\n",
    "col = ['id', 'age', 'hypertension', 'heart_disease', 'avg_glucose_level',\n",
    "       'bmi', 'gender_female', 'ever_married_yes', 'work_type_govt_job', 'work_type_private'\n",
    "         , 'work_type_self-employed', 'work_type_children','work_type_never_worked','residence_type_rural',\n",
    "       'smoking_status_unknown','smoking_status_formerly_smoked','smoking_status_never_smoked', \n",
    "       'smoking_status_smokes', 'stroke']\n",
    "df = df[col]"
   ]
  },
  {
   "cell_type": "code",
   "execution_count": 36,
   "metadata": {},
   "outputs": [
    {
     "data": {
      "text/plain": [
       "Index(['id', 'age', 'hypertension', 'heart_disease', 'avg_glucose_level',\n",
       "       'bmi', 'female', 'ever_married', 'work_govt_job', 'work_private',\n",
       "       'work_self-employed', 'work_children', 'never_worked',\n",
       "       'residence_rural', 'smoking_status_unknown', 'formerly_smoked',\n",
       "       'never_smoked', 'smokes', 'stroke'],\n",
       "      dtype='object')"
      ]
     },
     "execution_count": 36,
     "metadata": {},
     "output_type": "execute_result"
    }
   ],
   "source": [
    "# trim some of the column names, by removing _type and smoking_status\n",
    "df.rename(columns = lambda x: str(x).replace('_type', ''), inplace = True)\n",
    "df.rename(columns = lambda x: str(x).replace('smoking_status_', ''), inplace = True)\n",
    "# simplfy some general names\n",
    "df.rename(columns = {'gender_female':'female', \n",
    "                     'ever_married_yes': 'ever_married',\n",
    "                     'work_never_worked': 'never_worked',\n",
    "                     'unknown': 'smoking_status_unknown'}, inplace = True)\n",
    "df.columns"
   ]
  },
  {
   "cell_type": "code",
   "execution_count": 37,
   "metadata": {},
   "outputs": [
    {
     "data": {
      "text/html": [
       "<div>\n",
       "<style scoped>\n",
       "    .dataframe tbody tr th:only-of-type {\n",
       "        vertical-align: middle;\n",
       "    }\n",
       "\n",
       "    .dataframe tbody tr th {\n",
       "        vertical-align: top;\n",
       "    }\n",
       "\n",
       "    .dataframe thead th {\n",
       "        text-align: right;\n",
       "    }\n",
       "</style>\n",
       "<table border=\"1\" class=\"dataframe\">\n",
       "  <thead>\n",
       "    <tr style=\"text-align: right;\">\n",
       "      <th></th>\n",
       "      <th>age</th>\n",
       "      <th>hypertension</th>\n",
       "      <th>heart_disease</th>\n",
       "      <th>avg_glucose_level</th>\n",
       "      <th>bmi</th>\n",
       "      <th>female</th>\n",
       "      <th>ever_married</th>\n",
       "      <th>work_govt_job</th>\n",
       "      <th>work_private</th>\n",
       "      <th>work_self-employed</th>\n",
       "      <th>work_children</th>\n",
       "      <th>never_worked</th>\n",
       "      <th>residence_rural</th>\n",
       "      <th>smoking_status_unknown</th>\n",
       "      <th>formerly_smoked</th>\n",
       "      <th>never_smoked</th>\n",
       "      <th>smokes</th>\n",
       "      <th>stroke</th>\n",
       "    </tr>\n",
       "    <tr>\n",
       "      <th>id</th>\n",
       "      <th></th>\n",
       "      <th></th>\n",
       "      <th></th>\n",
       "      <th></th>\n",
       "      <th></th>\n",
       "      <th></th>\n",
       "      <th></th>\n",
       "      <th></th>\n",
       "      <th></th>\n",
       "      <th></th>\n",
       "      <th></th>\n",
       "      <th></th>\n",
       "      <th></th>\n",
       "      <th></th>\n",
       "      <th></th>\n",
       "      <th></th>\n",
       "      <th></th>\n",
       "      <th></th>\n",
       "    </tr>\n",
       "  </thead>\n",
       "  <tbody>\n",
       "    <tr>\n",
       "      <td>9046</td>\n",
       "      <td>67.0</td>\n",
       "      <td>0</td>\n",
       "      <td>1</td>\n",
       "      <td>228.69</td>\n",
       "      <td>36.600000</td>\n",
       "      <td>0</td>\n",
       "      <td>1</td>\n",
       "      <td>0</td>\n",
       "      <td>1</td>\n",
       "      <td>0</td>\n",
       "      <td>0</td>\n",
       "      <td>0</td>\n",
       "      <td>0</td>\n",
       "      <td>0</td>\n",
       "      <td>1</td>\n",
       "      <td>0</td>\n",
       "      <td>0</td>\n",
       "      <td>1</td>\n",
       "    </tr>\n",
       "    <tr>\n",
       "      <td>51676</td>\n",
       "      <td>61.0</td>\n",
       "      <td>0</td>\n",
       "      <td>0</td>\n",
       "      <td>202.21</td>\n",
       "      <td>28.893237</td>\n",
       "      <td>1</td>\n",
       "      <td>1</td>\n",
       "      <td>0</td>\n",
       "      <td>0</td>\n",
       "      <td>1</td>\n",
       "      <td>0</td>\n",
       "      <td>0</td>\n",
       "      <td>1</td>\n",
       "      <td>0</td>\n",
       "      <td>0</td>\n",
       "      <td>1</td>\n",
       "      <td>0</td>\n",
       "      <td>1</td>\n",
       "    </tr>\n",
       "    <tr>\n",
       "      <td>31112</td>\n",
       "      <td>80.0</td>\n",
       "      <td>0</td>\n",
       "      <td>1</td>\n",
       "      <td>105.92</td>\n",
       "      <td>32.500000</td>\n",
       "      <td>0</td>\n",
       "      <td>1</td>\n",
       "      <td>0</td>\n",
       "      <td>1</td>\n",
       "      <td>0</td>\n",
       "      <td>0</td>\n",
       "      <td>0</td>\n",
       "      <td>1</td>\n",
       "      <td>0</td>\n",
       "      <td>0</td>\n",
       "      <td>1</td>\n",
       "      <td>0</td>\n",
       "      <td>1</td>\n",
       "    </tr>\n",
       "    <tr>\n",
       "      <td>60182</td>\n",
       "      <td>49.0</td>\n",
       "      <td>0</td>\n",
       "      <td>0</td>\n",
       "      <td>171.23</td>\n",
       "      <td>34.400000</td>\n",
       "      <td>1</td>\n",
       "      <td>1</td>\n",
       "      <td>0</td>\n",
       "      <td>1</td>\n",
       "      <td>0</td>\n",
       "      <td>0</td>\n",
       "      <td>0</td>\n",
       "      <td>0</td>\n",
       "      <td>0</td>\n",
       "      <td>0</td>\n",
       "      <td>0</td>\n",
       "      <td>1</td>\n",
       "      <td>1</td>\n",
       "    </tr>\n",
       "    <tr>\n",
       "      <td>1665</td>\n",
       "      <td>79.0</td>\n",
       "      <td>1</td>\n",
       "      <td>0</td>\n",
       "      <td>174.12</td>\n",
       "      <td>24.000000</td>\n",
       "      <td>1</td>\n",
       "      <td>1</td>\n",
       "      <td>0</td>\n",
       "      <td>0</td>\n",
       "      <td>1</td>\n",
       "      <td>0</td>\n",
       "      <td>0</td>\n",
       "      <td>1</td>\n",
       "      <td>0</td>\n",
       "      <td>0</td>\n",
       "      <td>1</td>\n",
       "      <td>0</td>\n",
       "      <td>1</td>\n",
       "    </tr>\n",
       "  </tbody>\n",
       "</table>\n",
       "</div>"
      ],
      "text/plain": [
       "        age  hypertension  heart_disease  avg_glucose_level        bmi  \\\n",
       "id                                                                       \n",
       "9046   67.0             0              1             228.69  36.600000   \n",
       "51676  61.0             0              0             202.21  28.893237   \n",
       "31112  80.0             0              1             105.92  32.500000   \n",
       "60182  49.0             0              0             171.23  34.400000   \n",
       "1665   79.0             1              0             174.12  24.000000   \n",
       "\n",
       "       female  ever_married  work_govt_job  work_private  work_self-employed  \\\n",
       "id                                                                             \n",
       "9046        0             1              0             1                   0   \n",
       "51676       1             1              0             0                   1   \n",
       "31112       0             1              0             1                   0   \n",
       "60182       1             1              0             1                   0   \n",
       "1665        1             1              0             0                   1   \n",
       "\n",
       "       work_children  never_worked  residence_rural  smoking_status_unknown  \\\n",
       "id                                                                            \n",
       "9046               0             0                0                       0   \n",
       "51676              0             0                1                       0   \n",
       "31112              0             0                1                       0   \n",
       "60182              0             0                0                       0   \n",
       "1665               0             0                1                       0   \n",
       "\n",
       "       formerly_smoked  never_smoked  smokes  stroke  \n",
       "id                                                    \n",
       "9046                 1             0       0       1  \n",
       "51676                0             1       0       1  \n",
       "31112                0             1       0       1  \n",
       "60182                0             0       1       1  \n",
       "1665                 0             1       0       1  "
      ]
     },
     "execution_count": 37,
     "metadata": {},
     "output_type": "execute_result"
    }
   ],
   "source": [
    "# archive the data and move forward with df\n",
    "df_archive_3 = df\n",
    "df.set_index( 'id', inplace = True)\n",
    "df.head()"
   ]
  },
  {
   "attachments": {},
   "cell_type": "markdown",
   "metadata": {},
   "source": [
    "### Feature Selection\n",
    "We are going to dig in a bit deeper into the data. I would like to see the relationship between the variables and find the most influential columns in the data. "
   ]
  },
  {
   "cell_type": "code",
   "execution_count": 38,
   "metadata": {},
   "outputs": [],
   "source": [
    "from sklearn.feature_selection import SelectKBest\n",
    "from sklearn.feature_selection import chi2"
   ]
  },
  {
   "cell_type": "code",
   "execution_count": 39,
   "metadata": {},
   "outputs": [],
   "source": [
    "# splitting up the independent and dependent variables\n",
    "X = df.iloc[:,0:17]\n",
    "y = df.iloc[:,-1]"
   ]
  },
  {
   "cell_type": "code",
   "execution_count": 40,
   "metadata": {},
   "outputs": [],
   "source": [
    "# looking at the chi scores with selectKBest to determine the top 10 features\n",
    "features = SelectKBest(score_func = chi2, k=10)\n",
    "fit = features.fit(X,y)\n",
    "dfscores = pd.DataFrame(fit.scores_)\n",
    "dfcol = pd.DataFrame(X.columns)\n",
    "feature_score = pd.concat([dfcol,dfscores], axis = 1)\n",
    "feature_score.columns =['specs', 'score'] "
   ]
  },
  {
   "cell_type": "code",
   "execution_count": 41,
   "metadata": {},
   "outputs": [
    {
     "data": {
      "text/html": [
       "<div>\n",
       "<style scoped>\n",
       "    .dataframe tbody tr th:only-of-type {\n",
       "        vertical-align: middle;\n",
       "    }\n",
       "\n",
       "    .dataframe tbody tr th {\n",
       "        vertical-align: top;\n",
       "    }\n",
       "\n",
       "    .dataframe thead th {\n",
       "        text-align: right;\n",
       "    }\n",
       "</style>\n",
       "<table border=\"1\" class=\"dataframe\">\n",
       "  <thead>\n",
       "    <tr style=\"text-align: right;\">\n",
       "      <th></th>\n",
       "      <th>score</th>\n",
       "    </tr>\n",
       "    <tr>\n",
       "      <th>specs</th>\n",
       "      <th></th>\n",
       "    </tr>\n",
       "  </thead>\n",
       "  <tbody>\n",
       "    <tr>\n",
       "      <td>age</td>\n",
       "      <td>3635.226911</td>\n",
       "    </tr>\n",
       "    <tr>\n",
       "      <td>avg_glucose_level</td>\n",
       "      <td>1718.285446</td>\n",
       "    </tr>\n",
       "    <tr>\n",
       "      <td>heart_disease</td>\n",
       "      <td>87.987436</td>\n",
       "    </tr>\n",
       "    <tr>\n",
       "      <td>hypertension</td>\n",
       "      <td>75.449498</td>\n",
       "    </tr>\n",
       "    <tr>\n",
       "      <td>work_children</td>\n",
       "      <td>31.111620</td>\n",
       "    </tr>\n",
       "    <tr>\n",
       "      <td>ever_married</td>\n",
       "      <td>20.622787</td>\n",
       "    </tr>\n",
       "    <tr>\n",
       "      <td>formerly_smoked</td>\n",
       "      <td>17.607359</td>\n",
       "    </tr>\n",
       "    <tr>\n",
       "      <td>work_self-employed</td>\n",
       "      <td>16.584252</td>\n",
       "    </tr>\n",
       "    <tr>\n",
       "      <td>bmi</td>\n",
       "      <td>15.894122</td>\n",
       "    </tr>\n",
       "    <tr>\n",
       "      <td>smoking_status_unknown</td>\n",
       "      <td>11.139767</td>\n",
       "    </tr>\n",
       "  </tbody>\n",
       "</table>\n",
       "</div>"
      ],
      "text/plain": [
       "                              score\n",
       "specs                              \n",
       "age                     3635.226911\n",
       "avg_glucose_level       1718.285446\n",
       "heart_disease             87.987436\n",
       "hypertension              75.449498\n",
       "work_children             31.111620\n",
       "ever_married              20.622787\n",
       "formerly_smoked           17.607359\n",
       "work_self-employed        16.584252\n",
       "bmi                       15.894122\n",
       "smoking_status_unknown    11.139767"
      ]
     },
     "execution_count": 41,
     "metadata": {},
     "output_type": "execute_result"
    }
   ],
   "source": [
    "(feature_score.set_index('specs').nlargest(10,'score'))"
   ]
  },
  {
   "cell_type": "code",
   "execution_count": 42,
   "metadata": {},
   "outputs": [
    {
     "data": {
      "image/png": "[encoded data removed]",
      "text/plain": [
       "<Figure size 432x288 with 1 Axes>"
      ]
     },
     "metadata": {
      "needs_background": "light"
     },
     "output_type": "display_data"
    }
   ],
   "source": [
    "from sklearn.ensemble import ExtraTreesClassifier\n",
    "import matplotlib.pyplot as plt\n",
    "model = ExtraTreesClassifier()\n",
    "model.fit(X,y)\n",
    "feat_importances = pd.Series(model.feature_importances_, index=X.columns, name = 'feat_importance')\n",
    "feat_importances.nlargest(10).plot(kind='barh', title = 'Feature Importance Using Extra-Trees Classifier')\n",
    "plt.show()"
   ]
  },
  {
   "cell_type": "code",
   "execution_count": null,
   "metadata": {},
   "outputs": [],
   "source": [
    "from statsmodels.stats.outliers_influence import variance_inflation_factor\n",
    "vif_data = pd.DataFrame()\n",
    "vif_data['feature'] = X.columns\n",
    "vif_data['VIF'] = [variance_inflation_factor(X.values, i) for i in range(len(vif_data))]\n",
    "vif_data"
   ]
  },
  {
   "cell_type": "code",
   "execution_count": null,
   "metadata": {},
   "outputs": [],
   "source": [
    "df2 = df[['age', 'hypertension', 'heart_disease', 'avg_glucose_level', 'bmi',\n",
    "       'female', 'ever_married', 'work_govt_job', 'work_private',\n",
    "       'work_self-employed', 'work_children',  'residence_rural'\n",
    "          , 'formerly_smoked','never_smoked', 'smokes', 'stroke']]\n",
    "df2.loc[np.all(df2[['formerly_smoked', 'never_smoked', 'smokes']] == 0.0, axis = 1), \n",
    "       ['formerly_smoked', 'never_smoked', 'smokes']] = -1.\n",
    "df2.loc[np.all(df2[['work_govt_job','work_private', 'work_self-employed', 'work_children']] == 0.0, axis = 1), \n",
    "       ['work_govt_job','work_private', 'work_self-employed', 'work_children']] = -1."
   ]
  },
  {
   "cell_type": "code",
   "execution_count": 45,
   "metadata": {},
   "outputs": [
    {
     "data": {
      "text/html": [
       "<div>\n",
       "<style scoped>\n",
       "    .dataframe tbody tr th:only-of-type {\n",
       "        vertical-align: middle;\n",
       "    }\n",
       "\n",
       "    .dataframe tbody tr th {\n",
       "        vertical-align: top;\n",
       "    }\n",
       "\n",
       "    .dataframe thead th {\n",
       "        text-align: right;\n",
       "    }\n",
       "</style>\n",
       "<table border=\"1\" class=\"dataframe\">\n",
       "  <thead>\n",
       "    <tr style=\"text-align: right;\">\n",
       "      <th></th>\n",
       "      <th>feature</th>\n",
       "      <th>VIF</th>\n",
       "    </tr>\n",
       "  </thead>\n",
       "  <tbody>\n",
       "    <tr>\n",
       "      <td>0</td>\n",
       "      <td>age</td>\n",
       "      <td>12.215406</td>\n",
       "    </tr>\n",
       "    <tr>\n",
       "      <td>1</td>\n",
       "      <td>hypertension</td>\n",
       "      <td>1.219333</td>\n",
       "    </tr>\n",
       "    <tr>\n",
       "      <td>2</td>\n",
       "      <td>heart_disease</td>\n",
       "      <td>1.174820</td>\n",
       "    </tr>\n",
       "    <tr>\n",
       "      <td>3</td>\n",
       "      <td>avg_glucose_level</td>\n",
       "      <td>6.707521</td>\n",
       "    </tr>\n",
       "    <tr>\n",
       "      <td>4</td>\n",
       "      <td>bmi</td>\n",
       "      <td>12.112997</td>\n",
       "    </tr>\n",
       "    <tr>\n",
       "      <td>5</td>\n",
       "      <td>female</td>\n",
       "      <td>2.368533</td>\n",
       "    </tr>\n",
       "    <tr>\n",
       "      <td>6</td>\n",
       "      <td>ever_married</td>\n",
       "      <td>5.772832</td>\n",
       "    </tr>\n",
       "    <tr>\n",
       "      <td>7</td>\n",
       "      <td>work_govt_job</td>\n",
       "      <td>2.059630</td>\n",
       "    </tr>\n",
       "    <tr>\n",
       "      <td>8</td>\n",
       "      <td>work_private</td>\n",
       "      <td>6.102936</td>\n",
       "    </tr>\n",
       "    <tr>\n",
       "      <td>9</td>\n",
       "      <td>work_self-employed</td>\n",
       "      <td>2.608589</td>\n",
       "    </tr>\n",
       "    <tr>\n",
       "      <td>10</td>\n",
       "      <td>work_children</td>\n",
       "      <td>1.911931</td>\n",
       "    </tr>\n",
       "    <tr>\n",
       "      <td>11</td>\n",
       "      <td>residence_rural</td>\n",
       "      <td>1.926327</td>\n",
       "    </tr>\n",
       "    <tr>\n",
       "      <td>12</td>\n",
       "      <td>formerly_smoked</td>\n",
       "      <td>2.010733</td>\n",
       "    </tr>\n",
       "    <tr>\n",
       "      <td>13</td>\n",
       "      <td>never_smoked</td>\n",
       "      <td>1.748980</td>\n",
       "    </tr>\n",
       "    <tr>\n",
       "      <td>14</td>\n",
       "      <td>smokes</td>\n",
       "      <td>2.080259</td>\n",
       "    </tr>\n",
       "  </tbody>\n",
       "</table>\n",
       "</div>"
      ],
      "text/plain": [
       "               feature        VIF\n",
       "0                  age  12.215406\n",
       "1         hypertension   1.219333\n",
       "2        heart_disease   1.174820\n",
       "3    avg_glucose_level   6.707521\n",
       "4                  bmi  12.112997\n",
       "5               female   2.368533\n",
       "6         ever_married   5.772832\n",
       "7        work_govt_job   2.059630\n",
       "8         work_private   6.102936\n",
       "9   work_self-employed   2.608589\n",
       "10       work_children   1.911931\n",
       "11     residence_rural   1.926327\n",
       "12     formerly_smoked   2.010733\n",
       "13        never_smoked   1.748980\n",
       "14              smokes   2.080259"
      ]
     },
     "execution_count": 45,
     "metadata": {},
     "output_type": "execute_result"
    }
   ],
   "source": [
    "X = df2.iloc[:,0:15]\n",
    "y = df2.iloc[:,-1]\n",
    "vif_data = pd.DataFrame()\n",
    "vif_data['feature'] = X.columns\n",
    "vif_data['VIF'] = [variance_inflation_factor(X.values, i) for i in range(len(vif_data))]\n",
    "vif_data"
   ]
  },
  {
   "cell_type": "code",
   "execution_count": 46,
   "metadata": {},
   "outputs": [],
   "source": [
    "df_archive_4 = df2"
   ]
  },
  {
   "cell_type": "code",
   "execution_count": null,
   "metadata": {
    "vscode": {
     "languageId": "plaintext"
    }
   },
   "outputs": [],
   "source": [
    "df2['age_bmi'] = df.apply(lambda x: x['age'] - x['bmi'],axis=1)\n",
    "df2 = df2[[\"hypertension\",\"heart_disease\",\"avg_glucose_level\",\"female\",\"ever_married\",\"work_govt_job\",\n",
    "           \"work_private\",\"work_self-employed\",\"work_children\",\"residence_rural\",\"formerly_smoked\",\n",
    "           \"never_smoked\",\"smokes\",\"age_bmi\",\"stroke\"]]\n",
    "X = df2.iloc[:,0:14]\n",
    "y = df2.iloc[:,-1]\n",
    "vif_data = pd.DataFrame()\n",
    "vif_data['feature'] = X.columns\n",
    "vif_data['VIF'] = [variance_inflation_factor(X.values, i) for i in range(len(vif_data))]\n",
    "vif_data"
   ]
  },
  {
   "cell_type": "code",
   "execution_count": 48,
   "metadata": {},
   "outputs": [
    {
     "data": {
      "image/png": "[encoded data removed]",
      "text/plain": [
       "<Figure size 432x288 with 1 Axes>"
      ]
     },
     "metadata": {
      "needs_background": "light"
     },
     "output_type": "display_data"
    }
   ],
   "source": [
    "model = ExtraTreesClassifier()\n",
    "model.fit(X,y)\n",
    "feat_importances = pd.Series(model.feature_importances_, index=X.columns, name = 'feat_importance')\n",
    "feat_importances.nlargest(10).plot(kind='barh', title = 'Feature Importance Using Extra-Trees Classifier')\n",
    "plt.show()"
   ]
  },
  {
   "cell_type": "code",
   "execution_count": 49,
   "metadata": {},
   "outputs": [],
   "source": [
    "#df_archive_5 = df\n",
    "df = df2[[\"age_bmi\", \"avg_glucose_level\", \"residence_rural\", \"female\",\n",
    "          \"hypertension\", \"heart_disease\", \"ever_married\", \"never_smoked\",\n",
    "          \"smokes\", \"formerly_smoked\", \"stroke\"]]"
   ]
  },
  {
   "cell_type": "code",
   "execution_count": 50,
   "metadata": {},
   "outputs": [
    {
     "data": {
      "image/png": "[encoded data removed]",
      "text/plain": [
       "<Figure size 720x720 with 2 Axes>"
      ]
     },
     "metadata": {
      "needs_background": "light"
     },
     "output_type": "display_data"
    }
   ],
   "source": [
    "import seaborn as sns\n",
    "#get correlations of each features in dataset\n",
    "corrmat = df.corr()\n",
    "top_corr_features = corrmat.index\n",
    "plt.figure(figsize=(10,10))\n",
    "#plot heat map\n",
    "g=sns.heatmap(df[top_corr_features].corr(),annot=True,cmap=\"RdYlGn\").set(\n",
    "    title = \"Correlation Heatmap For Feature Selection\")"
   ]
  },
  {
   "attachments": {},
   "cell_type": "markdown",
   "metadata": {},
   "source": [
    "We can see that the data is sparse for those who have had a stroke. We will use Synthetic Minority Oversampling Technique (SMOTE) to oversample to data and address some of the imbalance. This process is used to help balance out the data. It essentially duplicates the imbalanced data. We are not adding data.  "
   ]
  },
  {
   "cell_type": "code",
   "execution_count": 51,
   "metadata": {},
   "outputs": [
    {
     "data": {
      "text/plain": [
       "<matplotlib.legend.Legend at 0x1e342ba58c8>"
      ]
     },
     "execution_count": 51,
     "metadata": {},
     "output_type": "execute_result"
    },
    {
     "data": {
      "image/png": "[encoded data removed]",
      "text/plain": [
       "<Figure size 432x288 with 1 Axes>"
      ]
     },
     "metadata": {},
     "output_type": "display_data"
    }
   ],
   "source": [
    "fig, ax = plt.subplots()\n",
    "\n",
    "labels = ['No Stroke', \n",
    "         'Stroke']\n",
    "percentages = (df.stroke.value_counts(normalize = True)*100).to_list()\n",
    "explode=(0.1,0)\n",
    "ax.pie(percentages, explode=explode, labels=labels,  \n",
    "       colors=customPalette, autopct='%1.1f%%', \n",
    "       shadow=False, startangle=0,   \n",
    "       pctdistance=1.2,labeldistance=1.4)\n",
    "ax.axis('equal')\n",
    "ax.set_title(\"Stroke\")\n",
    "ax.legend(frameon=False, bbox_to_anchor=(1.5,0.8))"
   ]
  },
  {
   "cell_type": "code",
   "execution_count": 52,
   "metadata": {},
   "outputs": [],
   "source": [
    "from sklearn.model_selection import train_test_split\n",
    "X_train, X_test,y_train,y_test = train_test_split(X, y,test_size=0.30,random_state=20)"
   ]
  },
  {
   "cell_type": "code",
   "execution_count": 53,
   "metadata": {},
   "outputs": [],
   "source": [
    "from imblearn.over_sampling import SMOTE\n",
    "\n",
    "sm = SMOTE(random_state = 2)\n",
    "X_train_smo, y_train_smo = sm.fit_resample(X_train, y_train.ravel())"
   ]
  },
  {
   "cell_type": "code",
   "execution_count": 54,
   "metadata": {},
   "outputs": [
    {
     "data": {
      "text/plain": [
       "<matplotlib.legend.Legend at 0x1e342d9b408>"
      ]
     },
     "execution_count": 54,
     "metadata": {},
     "output_type": "execute_result"
    },
    {
     "data": {
      "image/png": "[encoded data removed]",
      "text/plain": [
       "<Figure size 432x288 with 1 Axes>"
      ]
     },
     "metadata": {},
     "output_type": "display_data"
    }
   ],
   "source": [
    "y_train_smo_df = pd.DataFrame(y_train_smo, columns = ['stroke'])\n",
    "#Balance after using Smote\n",
    "fig, ax = plt.subplots()\n",
    "\n",
    "labels = ['No Stroke', \n",
    "         'Stroke']\n",
    "percentages = (y_train_smo_df.stroke.value_counts(normalize = True)*100).to_list()\n",
    "explode=(0.1,0)\n",
    "ax.pie(percentages, explode=explode, labels=labels,  \n",
    "       colors=customPalette, autopct='%1.1f%%', \n",
    "       shadow=False, startangle=-90,   \n",
    "       pctdistance=1.2,labeldistance=1.4)\n",
    "ax.axis('equal')\n",
    "ax.set_title(\"Stroke\")\n",
    "ax.legend(frameon=False, bbox_to_anchor=(1.5,0.8))"
   ]
  },
  {
   "cell_type": "code",
   "execution_count": 55,
   "metadata": {},
   "outputs": [
    {
     "data": {
      "text/plain": [
       "<matplotlib.legend.Legend at 0x1e342dee4c8>"
      ]
     },
     "execution_count": 55,
     "metadata": {},
     "output_type": "execute_result"
    },
    {
     "data": {
      "image/png": "[encoded data removed]",
      "text/plain": [
       "<Figure size 432x288 with 1 Axes>"
      ]
     },
     "metadata": {},
     "output_type": "display_data"
    }
   ],
   "source": [
    "fig, ax = plt.subplots()\n",
    "\n",
    "labels = ['No Stroke', \n",
    "         'Stroke']\n",
    "percentages = (df.stroke.value_counts(normalize = True)*100).to_list()\n",
    "explode=(0.1,0)\n",
    "ax.pie(percentages, explode=explode, labels=labels,  \n",
    "       colors=customPalette, autopct='%1.1f%%', \n",
    "       shadow=False, startangle=155,   \n",
    "       pctdistance=1.2,labeldistance=1.4)\n",
    "ax.axis('equal')\n",
    "ax.set_title(\"Stroke\")\n",
    "ax.legend(frameon=False, bbox_to_anchor=(1.5,0.8))"
   ]
  },
  {
   "cell_type": "code",
   "execution_count": 56,
   "metadata": {},
   "outputs": [
    {
     "name": "stdout",
     "output_type": "stream",
     "text": [
      "              precision    recall  f1-score   support\n",
      "\n",
      "           0       0.96      0.96      0.96      1458\n",
      "           1       0.14      0.15      0.15        75\n",
      "\n",
      "    accuracy                           0.92      1533\n",
      "   macro avg       0.55      0.55      0.55      1533\n",
      "weighted avg       0.92      0.92      0.92      1533\n",
      "\n"
     ]
    },
    {
     "data": {
      "text/plain": [
       "<sklearn.metrics._plot.confusion_matrix.ConfusionMatrixDisplay at 0x1e342de4088>"
      ]
     },
     "execution_count": 56,
     "metadata": {},
     "output_type": "execute_result"
    },
    {
     "data": {
      "image/png": "[encoded data removed]",
      "text/plain": [
       "<Figure size 432x288 with 2 Axes>"
      ]
     },
     "metadata": {
      "needs_background": "light"
     },
     "output_type": "display_data"
    }
   ],
   "source": [
    "from sklearn.tree import DecisionTreeClassifier\n",
    "from sklearn import metrics\n",
    "\n",
    "f_scores = {}\n",
    "\n",
    "decision_tree = DecisionTreeClassifier()\n",
    "\n",
    "decision_tree.fit(X_train_smo,y_train_smo)\n",
    "\n",
    "pred_test_desc_tree = decision_tree.predict(X_test)\n",
    "\n",
    "f_scores['Decision_Tree'] = metrics.f1_score(y_test, pred_test_desc_tree)\n",
    "\n",
    "print(metrics.classification_report(y_test, pred_test_desc_tree))\n",
    "metrics.plot_confusion_matrix(decision_tree, X_test, y_test, cmap = plt.cm.Oranges)"
   ]
  },
  {
   "cell_type": "code",
   "execution_count": 57,
   "metadata": {},
   "outputs": [
    {
     "name": "stdout",
     "output_type": "stream",
     "text": [
      "              precision    recall  f1-score   support\n",
      "\n",
      "           0       0.97      0.78      0.87      1458\n",
      "           1       0.12      0.59      0.20        75\n",
      "\n",
      "    accuracy                           0.77      1533\n",
      "   macro avg       0.55      0.68      0.53      1533\n",
      "weighted avg       0.93      0.77      0.83      1533\n",
      "\n"
     ]
    },
    {
     "data": {
      "text/plain": [
       "<sklearn.metrics._plot.confusion_matrix.ConfusionMatrixDisplay at 0x1e33c90d9c8>"
      ]
     },
     "execution_count": 57,
     "metadata": {},
     "output_type": "execute_result"
    },
    {
     "data": {
      "image/png": "[encoded data removed]",
      "text/plain": [
       "<Figure size 432x288 with 2 Axes>"
      ]
     },
     "metadata": {
      "needs_background": "light"
     },
     "output_type": "display_data"
    }
   ],
   "source": [
    "from sklearn.linear_model import LogisticRegression\n",
    "\n",
    "log_regression = LogisticRegression(max_iter=2000)\n",
    "\n",
    "log_regression.fit(X_train_smo,y_train_smo)\n",
    "\n",
    "pred_test_log= log_regression.predict(X_test)\n",
    "\n",
    "f_scores['Logistic_Regression'] = metrics.f1_score(y_test, pred_test_log)\n",
    "\n",
    "print(metrics.classification_report(y_test, pred_test_log))\n",
    "metrics.plot_confusion_matrix(log_regression, X_test, y_test, cmap = plt.cm.Oranges)"
   ]
  },
  {
   "cell_type": "code",
   "execution_count": 58,
   "metadata": {},
   "outputs": [
    {
     "name": "stdout",
     "output_type": "stream",
     "text": [
      "              precision    recall  f1-score   support\n",
      "\n",
      "           0       0.99      0.69      0.81      1458\n",
      "           1       0.12      0.80      0.21        75\n",
      "\n",
      "    accuracy                           0.70      1533\n",
      "   macro avg       0.55      0.75      0.51      1533\n",
      "weighted avg       0.94      0.70      0.78      1533\n",
      "\n"
     ]
    },
    {
     "data": {
      "text/plain": [
       "<sklearn.metrics._plot.confusion_matrix.ConfusionMatrixDisplay at 0x1e342b69ec8>"
      ]
     },
     "execution_count": 58,
     "metadata": {},
     "output_type": "execute_result"
    },
    {
     "data": {
      "image/png": "[encoded data removed]",
      "text/plain": [
       "<Figure size 432x288 with 2 Axes>"
      ]
     },
     "metadata": {
      "needs_background": "light"
     },
     "output_type": "display_data"
    }
   ],
   "source": [
    "from sklearn import svm\n",
    "_svm = svm.SVC()\n",
    "_svm.fit(X_train_smo, y_train_smo)\n",
    "\n",
    "_svm.fit(X_train_smo,y_train_smo)\n",
    "\n",
    "pred_test_svm= _svm.predict(X_test)\n",
    "\n",
    "f_scores['SVM'] = metrics.f1_score(y_test, pred_test_svm)\n",
    "\n",
    "print(metrics.classification_report(y_test, pred_test_svm))\n",
    "metrics.plot_confusion_matrix(_svm, X_test, y_test, cmap = plt.cm.Oranges)"
   ]
  },
  {
   "cell_type": "code",
   "execution_count": 59,
   "metadata": {},
   "outputs": [
    {
     "name": "stdout",
     "output_type": "stream",
     "text": [
      "              precision    recall  f1-score   support\n",
      "\n",
      "           0       0.98      0.77      0.86      1458\n",
      "           1       0.12      0.63      0.21        75\n",
      "\n",
      "    accuracy                           0.76      1533\n",
      "   macro avg       0.55      0.70      0.53      1533\n",
      "weighted avg       0.93      0.76      0.83      1533\n",
      "\n"
     ]
    },
    {
     "data": {
      "text/plain": [
       "<sklearn.metrics._plot.confusion_matrix.ConfusionMatrixDisplay at 0x1e349d34e88>"
      ]
     },
     "execution_count": 59,
     "metadata": {},
     "output_type": "execute_result"
    },
    {
     "data": {
      "image/png": "[encoded data removed]",
      "text/plain": [
       "<Figure size 432x288 with 2 Axes>"
      ]
     },
     "metadata": {
      "needs_background": "light"
     },
     "output_type": "display_data"
    }
   ],
   "source": [
    "from sklearn.discriminant_analysis import LinearDiscriminantAnalysis\n",
    "\n",
    "lin_disc = LinearDiscriminantAnalysis(solver='svd')\n",
    "\n",
    "lin_disc.fit(X_train_smo, y_train_smo)\n",
    "\n",
    "pred_test_lin_disc = lin_disc.predict(X_test)\n",
    "\n",
    "f_scores['Linear Discrim'] = metrics.f1_score(y_test, pred_test_lin_disc)\n",
    "\n",
    "print(metrics.classification_report(y_test, pred_test_lin_disc))\n",
    "metrics.plot_confusion_matrix(lin_disc, X_test, y_test, cmap = plt.cm.Oranges)"
   ]
  },
  {
   "cell_type": "code",
   "execution_count": 60,
   "metadata": {},
   "outputs": [
    {
     "name": "stdout",
     "output_type": "stream",
     "text": [
      "              precision    recall  f1-score   support\n",
      "\n",
      "           0       0.98      0.54      0.70      1458\n",
      "           1       0.08      0.81      0.15        75\n",
      "\n",
      "    accuracy                           0.56      1533\n",
      "   macro avg       0.53      0.68      0.43      1533\n",
      "weighted avg       0.94      0.56      0.67      1533\n",
      "\n"
     ]
    },
    {
     "data": {
      "text/plain": [
       "<sklearn.metrics._plot.confusion_matrix.ConfusionMatrixDisplay at 0x1e349debf48>"
      ]
     },
     "execution_count": 60,
     "metadata": {},
     "output_type": "execute_result"
    },
    {
     "data": {
      "image/png": "[encoded data removed]",
      "text/plain": [
       "<Figure size 432x288 with 2 Axes>"
      ]
     },
     "metadata": {
      "needs_background": "light"
     },
     "output_type": "display_data"
    }
   ],
   "source": [
    "from sklearn.naive_bayes import GaussianNB\n",
    "\n",
    "naive = GaussianNB()\n",
    "\n",
    "naive.fit(X_train_smo, y_train_smo)\n",
    "\n",
    "pred_test_naive = naive.predict(X_test)\n",
    "\n",
    "f_scores['Naive_Bayes'] = metrics.f1_score(y_test, pred_test_naive)\n",
    "\n",
    "\n",
    "print(metrics.classification_report(y_test, pred_test_naive))\n",
    "metrics.plot_confusion_matrix(naive, X_test, y_test, cmap = plt.cm.Oranges)"
   ]
  },
  {
   "cell_type": "code",
   "execution_count": 61,
   "metadata": {},
   "outputs": [
    {
     "name": "stdout",
     "output_type": "stream",
     "text": [
      "              precision    recall  f1-score   support\n",
      "\n",
      "           0       0.95      0.98      0.97      1458\n",
      "           1       0.07      0.03      0.04        75\n",
      "\n",
      "    accuracy                           0.93      1533\n",
      "   macro avg       0.51      0.50      0.50      1533\n",
      "weighted avg       0.91      0.93      0.92      1533\n",
      "\n"
     ]
    },
    {
     "data": {
      "text/plain": [
       "<sklearn.metrics._plot.confusion_matrix.ConfusionMatrixDisplay at 0x1e349d77548>"
      ]
     },
     "execution_count": 61,
     "metadata": {},
     "output_type": "execute_result"
    },
    {
     "data": {
      "image/png": "[encoded data removed]",
      "text/plain": [
       "<Figure size 432x288 with 2 Axes>"
      ]
     },
     "metadata": {
      "needs_background": "light"
     },
     "output_type": "display_data"
    }
   ],
   "source": [
    "from sklearn.ensemble import RandomForestClassifier\n",
    "\n",
    "random_for = RandomForestClassifier()\n",
    "\n",
    "random_for.fit(X_train_smo, y_train_smo)\n",
    "\n",
    "pred_test_random_for = random_for.predict(X_test)\n",
    "\n",
    "f_scores['Random_Forrest'] = metrics.f1_score(y_test, pred_test_random_for)\n",
    "\n",
    "print(metrics.classification_report(y_test, pred_test_random_for))\n",
    "metrics.plot_confusion_matrix(random_for, X_test, y_test, cmap = plt.cm.Oranges)"
   ]
  },
  {
   "cell_type": "code",
   "execution_count": 62,
   "metadata": {},
   "outputs": [
    {
     "data": {
      "text/html": [
       "<div>\n",
       "<style scoped>\n",
       "    .dataframe tbody tr th:only-of-type {\n",
       "        vertical-align: middle;\n",
       "    }\n",
       "\n",
       "    .dataframe tbody tr th {\n",
       "        vertical-align: top;\n",
       "    }\n",
       "\n",
       "    .dataframe thead th {\n",
       "        text-align: right;\n",
       "    }\n",
       "</style>\n",
       "<table border=\"1\" class=\"dataframe\">\n",
       "  <thead>\n",
       "    <tr style=\"text-align: right;\">\n",
       "      <th></th>\n",
       "      <th>Model</th>\n",
       "      <th>f1-score</th>\n",
       "    </tr>\n",
       "  </thead>\n",
       "  <tbody>\n",
       "    <tr>\n",
       "      <td>0</td>\n",
       "      <td>Decision_Tree</td>\n",
       "      <td>0.145695</td>\n",
       "    </tr>\n",
       "    <tr>\n",
       "      <td>1</td>\n",
       "      <td>Logistic_Regression</td>\n",
       "      <td>0.201373</td>\n",
       "    </tr>\n",
       "    <tr>\n",
       "      <td>2</td>\n",
       "      <td>SVM</td>\n",
       "      <td>0.206186</td>\n",
       "    </tr>\n",
       "    <tr>\n",
       "      <td>3</td>\n",
       "      <td>Linear Discrim</td>\n",
       "      <td>0.206593</td>\n",
       "    </tr>\n",
       "    <tr>\n",
       "      <td>4</td>\n",
       "      <td>Naive_Bayes</td>\n",
       "      <td>0.152310</td>\n",
       "    </tr>\n",
       "    <tr>\n",
       "      <td>5</td>\n",
       "      <td>Random_Forrest</td>\n",
       "      <td>0.038462</td>\n",
       "    </tr>\n",
       "  </tbody>\n",
       "</table>\n",
       "</div>"
      ],
      "text/plain": [
       "                 Model  f1-score\n",
       "0        Decision_Tree  0.145695\n",
       "1  Logistic_Regression  0.201373\n",
       "2                  SVM  0.206186\n",
       "3       Linear Discrim  0.206593\n",
       "4          Naive_Bayes  0.152310\n",
       "5       Random_Forrest  0.038462"
      ]
     },
     "execution_count": 62,
     "metadata": {},
     "output_type": "execute_result"
    }
   ],
   "source": [
    "pd.DataFrame({'Model': list(f_scores.keys()), 'f1-score': list(f_scores.values())})"
   ]
  },
  {
   "cell_type": "code",
   "execution_count": 63,
   "metadata": {},
   "outputs": [
    {
     "name": "stdout",
     "output_type": "stream",
     "text": [
      "              precision    recall  f1-score   support\n",
      "\n",
      "           0       0.96      0.96      0.96      1458\n",
      "           1       0.20      0.17      0.18        75\n",
      "\n",
      "    accuracy                           0.92      1533\n",
      "   macro avg       0.58      0.57      0.57      1533\n",
      "weighted avg       0.92      0.92      0.92      1533\n",
      "\n"
     ]
    },
    {
     "data": {
      "text/plain": [
       "<sklearn.metrics._plot.confusion_matrix.ConfusionMatrixDisplay at 0x1e349f15548>"
      ]
     },
     "execution_count": 63,
     "metadata": {},
     "output_type": "execute_result"
    },
    {
     "data": {
      "image/png": "[encoded data removed]",
      "text/plain": [
       "<Figure size 432x288 with 2 Axes>"
      ]
     },
     "metadata": {
      "needs_background": "light"
     },
     "output_type": "display_data"
    }
   ],
   "source": [
    "from sklearn.model_selection import GridSearchCV\n",
    "\n",
    "\n",
    "parameters= {'max_depth':[7,10],\n",
    "            'max_features':[4,5,6],\n",
    "            'min_samples_split' : [90,100],\n",
    "            'min_samples_leaf' : [20,30]}\n",
    "\n",
    "\n",
    "DT = RandomForestClassifier()\n",
    "\n",
    "DT_model_tune = GridSearchCV(DT, param_grid = parameters, cv=3)\n",
    "\n",
    "DT_model_tune.fit(X_train_smo,y_train_smo)\n",
    "\n",
    "predict_train_DT = DT_model_tune.predict(X_train_smo)\n",
    "predict_test_DT = DT_model_tune.predict(X_test)\n",
    "\n",
    "f_scores['Random Forrest - Grid'] = metrics.f1_score(y_test, predict_test_DT)\n",
    "\n",
    "print(metrics.classification_report(y_test, predict_test_DT))\n",
    "metrics.plot_confusion_matrix(DT_model_tune, X_test, y_test, cmap = plt.cm.Oranges)"
   ]
  },
  {
   "cell_type": "code",
   "execution_count": 64,
   "metadata": {},
   "outputs": [
    {
     "name": "stdout",
     "output_type": "stream",
     "text": [
      "              precision    recall  f1-score   support\n",
      "\n",
      "           0       0.97      0.78      0.87      1458\n",
      "           1       0.12      0.59      0.20        75\n",
      "\n",
      "    accuracy                           0.77      1533\n",
      "   macro avg       0.55      0.68      0.53      1533\n",
      "weighted avg       0.93      0.77      0.83      1533\n",
      "\n"
     ]
    },
    {
     "data": {
      "text/plain": [
       "<sklearn.metrics._plot.confusion_matrix.ConfusionMatrixDisplay at 0x1e349fe04c8>"
      ]
     },
     "execution_count": 64,
     "metadata": {},
     "output_type": "execute_result"
    },
    {
     "data": {
      "image/png": "[encoded data removed]",
      "text/plain": [
       "<Figure size 432x288 with 2 Axes>"
      ]
     },
     "metadata": {
      "needs_background": "light"
     },
     "output_type": "display_data"
    }
   ],
   "source": [
    "# Creating the hyperparameter grid\n",
    "c_space = np.logspace(-5, 8, 15)\n",
    "param_grid = {'C': c_space}\n",
    "  \n",
    "# Instantiating the GridSearchCV object\n",
    "logreg_cv = GridSearchCV(log_regression, param_grid, cv = 5)\n",
    "  \n",
    "logreg_cv.fit(X_train_smo,y_train_smo)\n",
    "  \n",
    "logreg_cv_pred = logreg_cv.predict(X_test)\n",
    "\n",
    "f_scores['Logistic Regression - Grid'] = metrics.f1_score(y_test, logreg_cv_pred)\n",
    "\n",
    "print(metrics.classification_report(y_test, logreg_cv_pred))\n",
    "metrics.plot_confusion_matrix(logreg_cv, X_test, y_test, cmap = plt.cm.Oranges)"
   ]
  },
  {
   "cell_type": "code",
   "execution_count": 65,
   "metadata": {},
   "outputs": [
    {
     "name": "stdout",
     "output_type": "stream",
     "text": [
      "              precision    recall  f1-score   support\n",
      "\n",
      "           0       0.95      0.95      0.95      1458\n",
      "           1       0.11      0.11      0.11        75\n",
      "\n",
      "    accuracy                           0.91      1533\n",
      "   macro avg       0.53      0.53      0.53      1533\n",
      "weighted avg       0.91      0.91      0.91      1533\n",
      "\n"
     ]
    },
    {
     "data": {
      "text/plain": [
       "<sklearn.metrics._plot.confusion_matrix.ConfusionMatrixDisplay at 0x1e34a08a588>"
      ]
     },
     "execution_count": 65,
     "metadata": {},
     "output_type": "execute_result"
    },
    {
     "data": {
      "image/png": "[encoded data removed]",
      "text/plain": [
       "<Figure size 432x288 with 2 Axes>"
      ]
     },
     "metadata": {
      "needs_background": "light"
     },
     "output_type": "display_data"
    }
   ],
   "source": [
    "from scipy.stats import randint\n",
    "from sklearn.model_selection import RandomizedSearchCV\n",
    "  \n",
    "# Creating the hyperparameter grid \n",
    "param_dist = {\"max_depth\": [3, None],\n",
    "              \"max_features\": randint(1, 9),\n",
    "              \"min_samples_leaf\": randint(1, 9),\n",
    "              \"criterion\": [\"gini\", \"entropy\"]}\n",
    "# Instantiating RandomizedSearchCV object\n",
    "tree_cv = RandomizedSearchCV(decision_tree, param_dist, cv = 5)\n",
    "  \n",
    "tree_cv.fit(X_train_smo,y_train_smo)\n",
    "  \n",
    "tree_cv_pred = tree_cv.predict(X_test)\n",
    "\n",
    "f_scores['Deciscion Tree - RandSearch'] = metrics.f1_score(y_test, tree_cv_pred)\n",
    "\n",
    "print(metrics.classification_report(y_test, tree_cv_pred))\n",
    "metrics.plot_confusion_matrix(tree_cv, X_test, y_test, cmap = plt.cm.Oranges)"
   ]
  },
  {
   "cell_type": "code",
   "execution_count": 66,
   "metadata": {},
   "outputs": [
    {
     "name": "stdout",
     "output_type": "stream",
     "text": [
      "Fitting 5 folds for each of 50 candidates, totalling 250 fits\n",
      "[CV 1/5] END .....................C=0.1, gamma=1, kernel=rbf; total time=   3.1s\n",
      "[CV 2/5] END .....................C=0.1, gamma=1, kernel=rbf; total time=   3.2s\n",
      "[CV 3/5] END .....................C=0.1, gamma=1, kernel=rbf; total time=   3.2s\n",
      "[CV 4/5] END .....................C=0.1, gamma=1, kernel=rbf; total time=   3.1s\n",
      "[CV 5/5] END .....................C=0.1, gamma=1, kernel=rbf; total time=   3.2s\n",
      "[CV 1/5] END .................C=0.1, gamma=1, kernel=sigmoid; total time=   1.0s\n",
      "[CV 2/5] END .................C=0.1, gamma=1, kernel=sigmoid; total time=   1.1s\n",
      "[CV 3/5] END .................C=0.1, gamma=1, kernel=sigmoid; total time=   1.1s\n",
      "[CV 4/5] END .................C=0.1, gamma=1, kernel=sigmoid; total time=   1.1s\n",
      "[CV 5/5] END .................C=0.1, gamma=1, kernel=sigmoid; total time=   1.2s\n",
      "[CV 1/5] END ...................C=0.1, gamma=0.1, kernel=rbf; total time=   2.4s\n",
      "[CV 2/5] END ...................C=0.1, gamma=0.1, kernel=rbf; total time=   2.4s\n",
      "[CV 3/5] END ...................C=0.1, gamma=0.1, kernel=rbf; total time=   2.4s\n",
      "[CV 4/5] END ...................C=0.1, gamma=0.1, kernel=rbf; total time=   2.4s\n",
      "[CV 5/5] END ...................C=0.1, gamma=0.1, kernel=rbf; total time=   2.4s\n",
      "[CV 1/5] END ...............C=0.1, gamma=0.1, kernel=sigmoid; total time=   1.1s\n",
      "[CV 2/5] END ...............C=0.1, gamma=0.1, kernel=sigmoid; total time=   1.1s\n",
      "[CV 3/5] END ...............C=0.1, gamma=0.1, kernel=sigmoid; total time=   1.1s\n",
      "[CV 4/5] END ...............C=0.1, gamma=0.1, kernel=sigmoid; total time=   1.1s\n",
      "[CV 5/5] END ...............C=0.1, gamma=0.1, kernel=sigmoid; total time=   1.1s\n",
      "[CV 1/5] END ..................C=0.1, gamma=0.01, kernel=rbf; total time=   1.3s\n",
      "[CV 2/5] END ..................C=0.1, gamma=0.01, kernel=rbf; total time=   1.3s\n",
      "[CV 3/5] END ..................C=0.1, gamma=0.01, kernel=rbf; total time=   1.3s\n",
      "[CV 4/5] END ..................C=0.1, gamma=0.01, kernel=rbf; total time=   1.3s\n",
      "[CV 5/5] END ..................C=0.1, gamma=0.01, kernel=rbf; total time=   1.3s\n",
      "[CV 1/5] END ..............C=0.1, gamma=0.01, kernel=sigmoid; total time=   1.3s\n",
      "[CV 2/5] END ..............C=0.1, gamma=0.01, kernel=sigmoid; total time=   1.3s\n",
      "[CV 3/5] END ..............C=0.1, gamma=0.01, kernel=sigmoid; total time=   1.3s\n",
      "[CV 4/5] END ..............C=0.1, gamma=0.01, kernel=sigmoid; total time=   1.1s\n",
      "[CV 5/5] END ..............C=0.1, gamma=0.01, kernel=sigmoid; total time=   1.1s\n",
      "[CV 1/5] END .................C=0.1, gamma=0.001, kernel=rbf; total time=   1.2s\n",
      "[CV 2/5] END .................C=0.1, gamma=0.001, kernel=rbf; total time=   1.2s\n",
      "[CV 3/5] END .................C=0.1, gamma=0.001, kernel=rbf; total time=   1.2s\n",
      "[CV 4/5] END .................C=0.1, gamma=0.001, kernel=rbf; total time=   1.2s\n",
      "[CV 5/5] END .................C=0.1, gamma=0.001, kernel=rbf; total time=   1.2s\n",
      "[CV 1/5] END .............C=0.1, gamma=0.001, kernel=sigmoid; total time=   2.0s\n",
      "[CV 2/5] END .............C=0.1, gamma=0.001, kernel=sigmoid; total time=   2.1s\n",
      "[CV 3/5] END .............C=0.1, gamma=0.001, kernel=sigmoid; total time=   2.1s\n",
      "[CV 4/5] END .............C=0.1, gamma=0.001, kernel=sigmoid; total time=   2.1s\n",
      "[CV 5/5] END .............C=0.1, gamma=0.001, kernel=sigmoid; total time=   2.1s\n",
      "[CV 1/5] END ................C=0.1, gamma=0.0001, kernel=rbf; total time=   1.2s\n",
      "[CV 2/5] END ................C=0.1, gamma=0.0001, kernel=rbf; total time=   1.2s\n",
      "[CV 3/5] END ................C=0.1, gamma=0.0001, kernel=rbf; total time=   1.2s\n",
      "[CV 4/5] END ................C=0.1, gamma=0.0001, kernel=rbf; total time=   1.2s\n",
      "[CV 5/5] END ................C=0.1, gamma=0.0001, kernel=rbf; total time=   1.2s\n",
      "[CV 1/5] END ............C=0.1, gamma=0.0001, kernel=sigmoid; total time=   1.2s\n",
      "[CV 2/5] END ............C=0.1, gamma=0.0001, kernel=sigmoid; total time=   1.2s\n",
      "[CV 3/5] END ............C=0.1, gamma=0.0001, kernel=sigmoid; total time=   1.2s\n",
      "[CV 4/5] END ............C=0.1, gamma=0.0001, kernel=sigmoid; total time=   1.2s\n",
      "[CV 5/5] END ............C=0.1, gamma=0.0001, kernel=sigmoid; total time=   1.2s\n",
      "[CV 1/5] END .......................C=1, gamma=1, kernel=rbf; total time=   3.3s\n",
      "[CV 2/5] END .......................C=1, gamma=1, kernel=rbf; total time=   3.5s\n",
      "[CV 3/5] END .......................C=1, gamma=1, kernel=rbf; total time=   3.3s\n",
      "[CV 4/5] END .......................C=1, gamma=1, kernel=rbf; total time=   3.3s\n",
      "[CV 5/5] END .......................C=1, gamma=1, kernel=rbf; total time=   3.3s\n",
      "[CV 1/5] END ...................C=1, gamma=1, kernel=sigmoid; total time=   1.0s\n",
      "[CV 2/5] END ...................C=1, gamma=1, kernel=sigmoid; total time=   1.0s\n",
      "[CV 3/5] END ...................C=1, gamma=1, kernel=sigmoid; total time=   1.0s\n",
      "[CV 4/5] END ...................C=1, gamma=1, kernel=sigmoid; total time=   1.0s\n",
      "[CV 5/5] END ...................C=1, gamma=1, kernel=sigmoid; total time=   1.0s\n",
      "[CV 1/5] END .....................C=1, gamma=0.1, kernel=rbf; total time=   1.7s\n",
      "[CV 2/5] END .....................C=1, gamma=0.1, kernel=rbf; total time=   1.7s\n",
      "[CV 3/5] END .....................C=1, gamma=0.1, kernel=rbf; total time=   1.6s\n",
      "[CV 4/5] END .....................C=1, gamma=0.1, kernel=rbf; total time=   1.7s\n",
      "[CV 5/5] END .....................C=1, gamma=0.1, kernel=rbf; total time=   1.7s\n",
      "[CV 1/5] END .................C=1, gamma=0.1, kernel=sigmoid; total time=   1.1s\n",
      "[CV 2/5] END .................C=1, gamma=0.1, kernel=sigmoid; total time=   1.1s\n",
      "[CV 3/5] END .................C=1, gamma=0.1, kernel=sigmoid; total time=   1.1s\n",
      "[CV 4/5] END .................C=1, gamma=0.1, kernel=sigmoid; total time=   1.0s\n",
      "[CV 5/5] END .................C=1, gamma=0.1, kernel=sigmoid; total time=   1.0s\n",
      "[CV 1/5] END ....................C=1, gamma=0.01, kernel=rbf; total time=   1.0s\n",
      "[CV 2/5] END ....................C=1, gamma=0.01, kernel=rbf; total time=   1.1s\n",
      "[CV 3/5] END ....................C=1, gamma=0.01, kernel=rbf; total time=   1.1s\n",
      "[CV 4/5] END ....................C=1, gamma=0.01, kernel=rbf; total time=   1.1s\n",
      "[CV 5/5] END ....................C=1, gamma=0.01, kernel=rbf; total time=   1.1s\n",
      "[CV 1/5] END ................C=1, gamma=0.01, kernel=sigmoid; total time=   1.1s\n",
      "[CV 2/5] END ................C=1, gamma=0.01, kernel=sigmoid; total time=   1.0s\n",
      "[CV 3/5] END ................C=1, gamma=0.01, kernel=sigmoid; total time=   1.1s\n",
      "[CV 4/5] END ................C=1, gamma=0.01, kernel=sigmoid; total time=   1.0s\n",
      "[CV 5/5] END ................C=1, gamma=0.01, kernel=sigmoid; total time=   1.1s\n",
      "[CV 1/5] END ...................C=1, gamma=0.001, kernel=rbf; total time=   1.1s\n",
      "[CV 2/5] END ...................C=1, gamma=0.001, kernel=rbf; total time=   1.1s\n",
      "[CV 3/5] END ...................C=1, gamma=0.001, kernel=rbf; total time=   1.1s\n",
      "[CV 4/5] END ...................C=1, gamma=0.001, kernel=rbf; total time=   1.1s\n",
      "[CV 5/5] END ...................C=1, gamma=0.001, kernel=rbf; total time=   1.2s\n",
      "[CV 1/5] END ...............C=1, gamma=0.001, kernel=sigmoid; total time=   2.2s\n",
      "[CV 2/5] END ...............C=1, gamma=0.001, kernel=sigmoid; total time=   2.1s\n",
      "[CV 3/5] END ...............C=1, gamma=0.001, kernel=sigmoid; total time=   2.2s\n",
      "[CV 4/5] END ...............C=1, gamma=0.001, kernel=sigmoid; total time=   2.2s\n",
      "[CV 5/5] END ...............C=1, gamma=0.001, kernel=sigmoid; total time=   2.2s\n",
      "[CV 1/5] END ..................C=1, gamma=0.0001, kernel=rbf; total time=   1.1s\n",
      "[CV 2/5] END ..................C=1, gamma=0.0001, kernel=rbf; total time=   1.2s\n",
      "[CV 3/5] END ..................C=1, gamma=0.0001, kernel=rbf; total time=   1.2s\n",
      "[CV 4/5] END ..................C=1, gamma=0.0001, kernel=rbf; total time=   1.1s\n",
      "[CV 5/5] END ..................C=1, gamma=0.0001, kernel=rbf; total time=   1.2s\n",
      "[CV 1/5] END ..............C=1, gamma=0.0001, kernel=sigmoid; total time=   1.0s\n",
      "[CV 2/5] END ..............C=1, gamma=0.0001, kernel=sigmoid; total time=   1.0s\n",
      "[CV 3/5] END ..............C=1, gamma=0.0001, kernel=sigmoid; total time=   1.0s\n",
      "[CV 4/5] END ..............C=1, gamma=0.0001, kernel=sigmoid; total time=   1.1s\n",
      "[CV 5/5] END ..............C=1, gamma=0.0001, kernel=sigmoid; total time=   1.0s\n",
      "[CV 1/5] END ......................C=10, gamma=1, kernel=rbf; total time=   3.1s\n"
     ]
    },
    {
     "name": "stdout",
     "output_type": "stream",
     "text": [
      "[CV 2/5] END ......................C=10, gamma=1, kernel=rbf; total time=   3.1s\n",
      "[CV 3/5] END ......................C=10, gamma=1, kernel=rbf; total time=   3.3s\n",
      "[CV 4/5] END ......................C=10, gamma=1, kernel=rbf; total time=   3.2s\n",
      "[CV 5/5] END ......................C=10, gamma=1, kernel=rbf; total time=   3.2s\n",
      "[CV 1/5] END ..................C=10, gamma=1, kernel=sigmoid; total time=   1.0s\n",
      "[CV 2/5] END ..................C=10, gamma=1, kernel=sigmoid; total time=   1.0s\n",
      "[CV 3/5] END ..................C=10, gamma=1, kernel=sigmoid; total time=   1.0s\n",
      "[CV 4/5] END ..................C=10, gamma=1, kernel=sigmoid; total time=   1.0s\n",
      "[CV 5/5] END ..................C=10, gamma=1, kernel=sigmoid; total time=   1.0s\n",
      "[CV 1/5] END ....................C=10, gamma=0.1, kernel=rbf; total time=   1.4s\n",
      "[CV 2/5] END ....................C=10, gamma=0.1, kernel=rbf; total time=   1.4s\n",
      "[CV 3/5] END ....................C=10, gamma=0.1, kernel=rbf; total time=   1.4s\n",
      "[CV 4/5] END ....................C=10, gamma=0.1, kernel=rbf; total time=   1.4s\n",
      "[CV 5/5] END ....................C=10, gamma=0.1, kernel=rbf; total time=   1.5s\n",
      "[CV 1/5] END ................C=10, gamma=0.1, kernel=sigmoid; total time=   1.0s\n",
      "[CV 2/5] END ................C=10, gamma=0.1, kernel=sigmoid; total time=   1.0s\n",
      "[CV 3/5] END ................C=10, gamma=0.1, kernel=sigmoid; total time=   1.0s\n",
      "[CV 4/5] END ................C=10, gamma=0.1, kernel=sigmoid; total time=   1.0s\n",
      "[CV 5/5] END ................C=10, gamma=0.1, kernel=sigmoid; total time=   1.0s\n",
      "[CV 1/5] END ...................C=10, gamma=0.01, kernel=rbf; total time=   0.8s\n",
      "[CV 2/5] END ...................C=10, gamma=0.01, kernel=rbf; total time=   0.9s\n",
      "[CV 3/5] END ...................C=10, gamma=0.01, kernel=rbf; total time=   0.8s\n",
      "[CV 4/5] END ...................C=10, gamma=0.01, kernel=rbf; total time=   0.9s\n",
      "[CV 5/5] END ...................C=10, gamma=0.01, kernel=rbf; total time=   0.9s\n",
      "[CV 1/5] END ...............C=10, gamma=0.01, kernel=sigmoid; total time=   1.0s\n",
      "[CV 2/5] END ...............C=10, gamma=0.01, kernel=sigmoid; total time=   1.0s\n",
      "[CV 3/5] END ...............C=10, gamma=0.01, kernel=sigmoid; total time=   1.0s\n",
      "[CV 4/5] END ...............C=10, gamma=0.01, kernel=sigmoid; total time=   1.0s\n",
      "[CV 5/5] END ...............C=10, gamma=0.01, kernel=sigmoid; total time=   1.0s\n",
      "[CV 1/5] END ..................C=10, gamma=0.001, kernel=rbf; total time=   1.1s\n",
      "[CV 2/5] END ..................C=10, gamma=0.001, kernel=rbf; total time=   1.1s\n",
      "[CV 3/5] END ..................C=10, gamma=0.001, kernel=rbf; total time=   1.1s\n",
      "[CV 4/5] END ..................C=10, gamma=0.001, kernel=rbf; total time=   1.1s\n",
      "[CV 5/5] END ..................C=10, gamma=0.001, kernel=rbf; total time=   1.1s\n",
      "[CV 1/5] END ..............C=10, gamma=0.001, kernel=sigmoid; total time=   1.5s\n",
      "[CV 2/5] END ..............C=10, gamma=0.001, kernel=sigmoid; total time=   1.5s\n",
      "[CV 3/5] END ..............C=10, gamma=0.001, kernel=sigmoid; total time=   1.5s\n",
      "[CV 4/5] END ..............C=10, gamma=0.001, kernel=sigmoid; total time=   1.9s\n",
      "[CV 5/5] END ..............C=10, gamma=0.001, kernel=sigmoid; total time=   1.5s\n",
      "[CV 1/5] END .................C=10, gamma=0.0001, kernel=rbf; total time=   1.2s\n",
      "[CV 2/5] END .................C=10, gamma=0.0001, kernel=rbf; total time=   1.2s\n",
      "[CV 3/5] END .................C=10, gamma=0.0001, kernel=rbf; total time=   1.1s\n",
      "[CV 4/5] END .................C=10, gamma=0.0001, kernel=rbf; total time=   1.1s\n",
      "[CV 5/5] END .................C=10, gamma=0.0001, kernel=rbf; total time=   1.1s\n",
      "[CV 1/5] END .............C=10, gamma=0.0001, kernel=sigmoid; total time=   1.0s\n",
      "[CV 2/5] END .............C=10, gamma=0.0001, kernel=sigmoid; total time=   1.0s\n",
      "[CV 3/5] END .............C=10, gamma=0.0001, kernel=sigmoid; total time=   1.0s\n",
      "[CV 4/5] END .............C=10, gamma=0.0001, kernel=sigmoid; total time=   1.0s\n",
      "[CV 5/5] END .............C=10, gamma=0.0001, kernel=sigmoid; total time=   1.0s\n",
      "[CV 1/5] END .....................C=100, gamma=1, kernel=rbf; total time=   3.1s\n",
      "[CV 2/5] END .....................C=100, gamma=1, kernel=rbf; total time=   3.1s\n",
      "[CV 3/5] END .....................C=100, gamma=1, kernel=rbf; total time=   3.1s\n",
      "[CV 4/5] END .....................C=100, gamma=1, kernel=rbf; total time=   3.2s\n",
      "[CV 5/5] END .....................C=100, gamma=1, kernel=rbf; total time=   3.1s\n",
      "[CV 1/5] END .................C=100, gamma=1, kernel=sigmoid; total time=   1.0s\n",
      "[CV 2/5] END .................C=100, gamma=1, kernel=sigmoid; total time=   1.0s\n",
      "[CV 3/5] END .................C=100, gamma=1, kernel=sigmoid; total time=   1.0s\n",
      "[CV 4/5] END .................C=100, gamma=1, kernel=sigmoid; total time=   1.0s\n",
      "[CV 5/5] END .................C=100, gamma=1, kernel=sigmoid; total time=   1.0s\n",
      "[CV 1/5] END ...................C=100, gamma=0.1, kernel=rbf; total time=   1.4s\n",
      "[CV 2/5] END ...................C=100, gamma=0.1, kernel=rbf; total time=   1.3s\n",
      "[CV 3/5] END ...................C=100, gamma=0.1, kernel=rbf; total time=   1.4s\n",
      "[CV 4/5] END ...................C=100, gamma=0.1, kernel=rbf; total time=   1.4s\n",
      "[CV 5/5] END ...................C=100, gamma=0.1, kernel=rbf; total time=   1.4s\n",
      "[CV 1/5] END ...............C=100, gamma=0.1, kernel=sigmoid; total time=   1.0s\n",
      "[CV 2/5] END ...............C=100, gamma=0.1, kernel=sigmoid; total time=   1.0s\n",
      "[CV 3/5] END ...............C=100, gamma=0.1, kernel=sigmoid; total time=   1.0s\n",
      "[CV 4/5] END ...............C=100, gamma=0.1, kernel=sigmoid; total time=   1.0s\n",
      "[CV 5/5] END ...............C=100, gamma=0.1, kernel=sigmoid; total time=   1.0s\n",
      "[CV 1/5] END ..................C=100, gamma=0.01, kernel=rbf; total time=   1.0s\n",
      "[CV 2/5] END ..................C=100, gamma=0.01, kernel=rbf; total time=   1.1s\n",
      "[CV 3/5] END ..................C=100, gamma=0.01, kernel=rbf; total time=   1.1s\n",
      "[CV 4/5] END ..................C=100, gamma=0.01, kernel=rbf; total time=   1.0s\n",
      "[CV 5/5] END ..................C=100, gamma=0.01, kernel=rbf; total time=   1.0s\n",
      "[CV 1/5] END ..............C=100, gamma=0.01, kernel=sigmoid; total time=   0.9s\n",
      "[CV 2/5] END ..............C=100, gamma=0.01, kernel=sigmoid; total time=   0.9s\n",
      "[CV 3/5] END ..............C=100, gamma=0.01, kernel=sigmoid; total time=   0.9s\n",
      "[CV 4/5] END ..............C=100, gamma=0.01, kernel=sigmoid; total time=   0.9s\n",
      "[CV 5/5] END ..............C=100, gamma=0.01, kernel=sigmoid; total time=   1.0s\n",
      "[CV 1/5] END .................C=100, gamma=0.001, kernel=rbf; total time=   1.2s\n",
      "[CV 2/5] END .................C=100, gamma=0.001, kernel=rbf; total time=   1.2s\n",
      "[CV 3/5] END .................C=100, gamma=0.001, kernel=rbf; total time=   1.3s\n",
      "[CV 4/5] END .................C=100, gamma=0.001, kernel=rbf; total time=   1.3s\n",
      "[CV 5/5] END .................C=100, gamma=0.001, kernel=rbf; total time=   1.3s\n",
      "[CV 1/5] END .............C=100, gamma=0.001, kernel=sigmoid; total time=   1.2s\n",
      "[CV 2/5] END .............C=100, gamma=0.001, kernel=sigmoid; total time=   1.1s\n",
      "[CV 3/5] END .............C=100, gamma=0.001, kernel=sigmoid; total time=   1.2s\n",
      "[CV 4/5] END .............C=100, gamma=0.001, kernel=sigmoid; total time=   1.3s\n",
      "[CV 5/5] END .............C=100, gamma=0.001, kernel=sigmoid; total time=   1.2s\n",
      "[CV 1/5] END ................C=100, gamma=0.0001, kernel=rbf; total time=   1.2s\n",
      "[CV 2/5] END ................C=100, gamma=0.0001, kernel=rbf; total time=   1.3s\n",
      "[CV 3/5] END ................C=100, gamma=0.0001, kernel=rbf; total time=   1.3s\n",
      "[CV 4/5] END ................C=100, gamma=0.0001, kernel=rbf; total time=   1.2s\n",
      "[CV 5/5] END ................C=100, gamma=0.0001, kernel=rbf; total time=   1.2s\n",
      "[CV 1/5] END ............C=100, gamma=0.0001, kernel=sigmoid; total time=   1.0s\n",
      "[CV 2/5] END ............C=100, gamma=0.0001, kernel=sigmoid; total time=   1.0s\n",
      "[CV 3/5] END ............C=100, gamma=0.0001, kernel=sigmoid; total time=   1.0s\n",
      "[CV 4/5] END ............C=100, gamma=0.0001, kernel=sigmoid; total time=   1.0s\n",
      "[CV 5/5] END ............C=100, gamma=0.0001, kernel=sigmoid; total time=   1.0s\n",
      "[CV 1/5] END ....................C=1000, gamma=1, kernel=rbf; total time=   3.2s\n",
      "[CV 2/5] END ....................C=1000, gamma=1, kernel=rbf; total time=   3.2s\n",
      "[CV 3/5] END ....................C=1000, gamma=1, kernel=rbf; total time=   3.2s\n"
     ]
    },
    {
     "name": "stdout",
     "output_type": "stream",
     "text": [
      "[CV 4/5] END ....................C=1000, gamma=1, kernel=rbf; total time=   3.2s\n",
      "[CV 5/5] END ....................C=1000, gamma=1, kernel=rbf; total time=   3.1s\n",
      "[CV 1/5] END ................C=1000, gamma=1, kernel=sigmoid; total time=   1.0s\n",
      "[CV 2/5] END ................C=1000, gamma=1, kernel=sigmoid; total time=   1.0s\n",
      "[CV 3/5] END ................C=1000, gamma=1, kernel=sigmoid; total time=   1.0s\n",
      "[CV 4/5] END ................C=1000, gamma=1, kernel=sigmoid; total time=   0.9s\n",
      "[CV 5/5] END ................C=1000, gamma=1, kernel=sigmoid; total time=   1.0s\n",
      "[CV 1/5] END ..................C=1000, gamma=0.1, kernel=rbf; total time=   1.4s\n",
      "[CV 2/5] END ..................C=1000, gamma=0.1, kernel=rbf; total time=   1.3s\n",
      "[CV 3/5] END ..................C=1000, gamma=0.1, kernel=rbf; total time=   1.4s\n",
      "[CV 4/5] END ..................C=1000, gamma=0.1, kernel=rbf; total time=   1.3s\n",
      "[CV 5/5] END ..................C=1000, gamma=0.1, kernel=rbf; total time=   1.3s\n",
      "[CV 1/5] END ..............C=1000, gamma=0.1, kernel=sigmoid; total time=   1.0s\n",
      "[CV 2/5] END ..............C=1000, gamma=0.1, kernel=sigmoid; total time=   1.0s\n",
      "[CV 3/5] END ..............C=1000, gamma=0.1, kernel=sigmoid; total time=   0.9s\n",
      "[CV 4/5] END ..............C=1000, gamma=0.1, kernel=sigmoid; total time=   1.0s\n",
      "[CV 5/5] END ..............C=1000, gamma=0.1, kernel=sigmoid; total time=   1.0s\n",
      "[CV 1/5] END .................C=1000, gamma=0.01, kernel=rbf; total time=   1.9s\n",
      "[CV 2/5] END .................C=1000, gamma=0.01, kernel=rbf; total time=   2.0s\n",
      "[CV 3/5] END .................C=1000, gamma=0.01, kernel=rbf; total time=   1.9s\n",
      "[CV 4/5] END .................C=1000, gamma=0.01, kernel=rbf; total time=   1.9s\n",
      "[CV 5/5] END .................C=1000, gamma=0.01, kernel=rbf; total time=   2.0s\n",
      "[CV 1/5] END .............C=1000, gamma=0.01, kernel=sigmoid; total time=   0.9s\n",
      "[CV 2/5] END .............C=1000, gamma=0.01, kernel=sigmoid; total time=   0.9s\n",
      "[CV 3/5] END .............C=1000, gamma=0.01, kernel=sigmoid; total time=   0.9s\n",
      "[CV 4/5] END .............C=1000, gamma=0.01, kernel=sigmoid; total time=   1.0s\n",
      "[CV 5/5] END .............C=1000, gamma=0.01, kernel=sigmoid; total time=   1.0s\n",
      "[CV 1/5] END ................C=1000, gamma=0.001, kernel=rbf; total time=   2.6s\n",
      "[CV 2/5] END ................C=1000, gamma=0.001, kernel=rbf; total time=   2.6s\n",
      "[CV 3/5] END ................C=1000, gamma=0.001, kernel=rbf; total time=   2.9s\n",
      "[CV 4/5] END ................C=1000, gamma=0.001, kernel=rbf; total time=   2.7s\n",
      "[CV 5/5] END ................C=1000, gamma=0.001, kernel=rbf; total time=   2.8s\n",
      "[CV 1/5] END ............C=1000, gamma=0.001, kernel=sigmoid; total time=   1.0s\n",
      "[CV 2/5] END ............C=1000, gamma=0.001, kernel=sigmoid; total time=   1.0s\n",
      "[CV 3/5] END ............C=1000, gamma=0.001, kernel=sigmoid; total time=   1.0s\n",
      "[CV 4/5] END ............C=1000, gamma=0.001, kernel=sigmoid; total time=   1.1s\n",
      "[CV 5/5] END ............C=1000, gamma=0.001, kernel=sigmoid; total time=   1.0s\n",
      "[CV 1/5] END ...............C=1000, gamma=0.0001, kernel=rbf; total time=   1.9s\n",
      "[CV 2/5] END ...............C=1000, gamma=0.0001, kernel=rbf; total time=   1.9s\n",
      "[CV 3/5] END ...............C=1000, gamma=0.0001, kernel=rbf; total time=   2.0s\n",
      "[CV 4/5] END ...............C=1000, gamma=0.0001, kernel=rbf; total time=   1.8s\n",
      "[CV 5/5] END ...............C=1000, gamma=0.0001, kernel=rbf; total time=   1.9s\n",
      "[CV 1/5] END ...........C=1000, gamma=0.0001, kernel=sigmoid; total time=   1.0s\n",
      "[CV 2/5] END ...........C=1000, gamma=0.0001, kernel=sigmoid; total time=   1.0s\n",
      "[CV 3/5] END ...........C=1000, gamma=0.0001, kernel=sigmoid; total time=   1.0s\n",
      "[CV 4/5] END ...........C=1000, gamma=0.0001, kernel=sigmoid; total time=   1.0s\n",
      "[CV 5/5] END ...........C=1000, gamma=0.0001, kernel=sigmoid; total time=   1.0s\n"
     ]
    },
    {
     "data": {
      "text/plain": [
       "GridSearchCV(estimator=SVC(),\n",
       "             param_grid={'C': [0.1, 1, 10, 100, 1000],\n",
       "                         'gamma': [1, 0.1, 0.01, 0.001, 0.0001],\n",
       "                         'kernel': ['rbf', 'sigmoid']},\n",
       "             verbose=3)"
      ]
     },
     "execution_count": 66,
     "metadata": {},
     "output_type": "execute_result"
    }
   ],
   "source": [
    "from sklearn.model_selection import GridSearchCV\n",
    "  \n",
    "# defining parameter range\n",
    "param_grid = {'C': [0.1, 1, 10, 100, 1000], \n",
    "              'gamma': [1, 0.1, 0.01, 0.001, 0.0001],\n",
    "              'kernel': ['rbf', 'sigmoid']} \n",
    "grid = GridSearchCV(_svm, param_grid, refit = True, verbose = 3)\n",
    "# fitting the model for grid search\n",
    "grid.fit(X_train_smo,y_train_smo)"
   ]
  },
  {
   "cell_type": "code",
   "execution_count": 67,
   "metadata": {},
   "outputs": [
    {
     "name": "stdout",
     "output_type": "stream",
     "text": [
      "              precision    recall  f1-score   support\n",
      "\n",
      "           0       0.95      0.92      0.94      1458\n",
      "           1       0.08      0.13      0.10        75\n",
      "\n",
      "    accuracy                           0.88      1533\n",
      "   macro avg       0.52      0.53      0.52      1533\n",
      "weighted avg       0.91      0.88      0.90      1533\n",
      "\n"
     ]
    },
    {
     "data": {
      "text/plain": [
       "<sklearn.metrics._plot.confusion_matrix.ConfusionMatrixDisplay at 0x1e349e7cf08>"
      ]
     },
     "execution_count": 67,
     "metadata": {},
     "output_type": "execute_result"
    },
    {
     "data": {
      "image/png": "[encoded data removed]",
      "text/plain": [
       "<Figure size 432x288 with 2 Axes>"
      ]
     },
     "metadata": {
      "needs_background": "light"
     },
     "output_type": "display_data"
    }
   ],
   "source": [
    "grid_pred = grid.predict(X_test)\n",
    "\n",
    "f_scores['SVM - Grid'] = metrics.f1_score(y_test, grid_pred)\n",
    "\n",
    "print(metrics.classification_report(y_test, grid_pred))\n",
    "metrics.plot_confusion_matrix(grid, X_test, y_test, cmap = plt.cm.Oranges)"
   ]
  },
  {
   "cell_type": "code",
   "execution_count": 68,
   "metadata": {},
   "outputs": [
    {
     "data": {
      "text/html": [
       "<div>\n",
       "<style scoped>\n",
       "    .dataframe tbody tr th:only-of-type {\n",
       "        vertical-align: middle;\n",
       "    }\n",
       "\n",
       "    .dataframe tbody tr th {\n",
       "        vertical-align: top;\n",
       "    }\n",
       "\n",
       "    .dataframe thead th {\n",
       "        text-align: right;\n",
       "    }\n",
       "</style>\n",
       "<table border=\"1\" class=\"dataframe\">\n",
       "  <thead>\n",
       "    <tr style=\"text-align: right;\">\n",
       "      <th></th>\n",
       "      <th>Model</th>\n",
       "      <th>f1-score</th>\n",
       "    </tr>\n",
       "  </thead>\n",
       "  <tbody>\n",
       "    <tr>\n",
       "      <td>0</td>\n",
       "      <td>Decision_Tree</td>\n",
       "      <td>0.145695</td>\n",
       "    </tr>\n",
       "    <tr>\n",
       "      <td>1</td>\n",
       "      <td>Logistic_Regression</td>\n",
       "      <td>0.201373</td>\n",
       "    </tr>\n",
       "    <tr>\n",
       "      <td>2</td>\n",
       "      <td>SVM</td>\n",
       "      <td>0.206186</td>\n",
       "    </tr>\n",
       "    <tr>\n",
       "      <td>3</td>\n",
       "      <td>Linear Discrim</td>\n",
       "      <td>0.206593</td>\n",
       "    </tr>\n",
       "    <tr>\n",
       "      <td>4</td>\n",
       "      <td>Naive_Bayes</td>\n",
       "      <td>0.152310</td>\n",
       "    </tr>\n",
       "    <tr>\n",
       "      <td>5</td>\n",
       "      <td>Random_Forrest</td>\n",
       "      <td>0.038462</td>\n",
       "    </tr>\n",
       "    <tr>\n",
       "      <td>6</td>\n",
       "      <td>Random Forrest - Grid</td>\n",
       "      <td>0.184397</td>\n",
       "    </tr>\n",
       "    <tr>\n",
       "      <td>7</td>\n",
       "      <td>Logistic Regression - Grid</td>\n",
       "      <td>0.200913</td>\n",
       "    </tr>\n",
       "    <tr>\n",
       "      <td>8</td>\n",
       "      <td>Deciscion Tree - RandSearch</td>\n",
       "      <td>0.107383</td>\n",
       "    </tr>\n",
       "    <tr>\n",
       "      <td>9</td>\n",
       "      <td>SVM - Grid</td>\n",
       "      <td>0.099010</td>\n",
       "    </tr>\n",
       "  </tbody>\n",
       "</table>\n",
       "</div>"
      ],
      "text/plain": [
       "                         Model  f1-score\n",
       "0                Decision_Tree  0.145695\n",
       "1          Logistic_Regression  0.201373\n",
       "2                          SVM  0.206186\n",
       "3               Linear Discrim  0.206593\n",
       "4                  Naive_Bayes  0.152310\n",
       "5               Random_Forrest  0.038462\n",
       "6        Random Forrest - Grid  0.184397\n",
       "7   Logistic Regression - Grid  0.200913\n",
       "8  Deciscion Tree - RandSearch  0.107383\n",
       "9                   SVM - Grid  0.099010"
      ]
     },
     "execution_count": 68,
     "metadata": {},
     "output_type": "execute_result"
    }
   ],
   "source": [
    "pd.DataFrame({'Model': list(f_scores.keys()), 'f1-score': list(f_scores.values())})"
   ]
  }
 ],
 "metadata": {
  "kernelspec": {
   "display_name": "Python 3",
   "language": "python",
   "name": "python3"
  },
  "language_info": {
   "codemirror_mode": {
    "name": "ipython",
    "version": 3
   },
   "file_extension": ".py",
   "mimetype": "text/x-python",
   "name": "python",
   "nbconvert_exporter": "python",
   "pygments_lexer": "ipython3",
   "version": "3.7.4"
  }
 },
 "nbformat": 4,
 "nbformat_minor": 2
}
